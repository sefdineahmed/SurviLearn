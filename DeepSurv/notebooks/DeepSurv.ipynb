import sys
import numpy as np
import pandas as pd
import lasagne
import matplotlib.pyplot as plt
from sklearn.preprocessing import LabelEncoder

# Ajout du chemin pour DeepSurv
sys.path.append('../deepsurv')
import deep_surv
from deepsurv_logger import TensorboardLogger
import viz

# Chargement des données
train_dataset_fp = './GastricCancerData.xlsx'
train_df = pd.read_excel(train_dataset_fp)

# Encodage des variables catégoriques
CatCols = train_df.select_dtypes(include=['object']).columns
label_encoder = LabelEncoder()
for col in CatCols:
    train_df[col] = label_encoder.fit_transform(train_df[col].astype(str))

# Conversion des données au format DeepSurv
def dataframe_to_deepsurv_ds(df, event_col='Event', time_col='Time'):
    e = df[event_col].values.astype(np.int32)
    t = df[time_col].values.astype(np.float32)
    x_df = df.drop([event_col, time_col], axis=1)
    x = x_df.values.astype(np.float32)
    return {'x': x, 'e': e, 't': t}

train_data = dataframe_to_deepsurv_ds(train_df, event_col='Event', time_col='Time')

# Définition des hyperparamètres
hyperparams = {
    'L2_reg': 10.0,
    'batch_norm': True,
    'dropout': 0.4,
    'hidden_layers_sizes': [25, 25],
    'learning_rate': 1e-5,
    'lr_decay': 0.001,
    'momentum': 0.9,
    'n_in': train_data['x'].shape[1],
    'standardize': True
}

# Création et entraînement du modèle
model = deep_surv.DeepSurv(**hyperparams)
experiment_name = 'test_experiment_sebastian'
logdir = './logs/tensorboard/'
logger = TensorboardLogger(experiment_name, logdir=logdir)

update_fn = lasagne.updates.nesterov_momentum
n_epochs = 2000
metrics = model.train(train_data, n_epochs=n_epochs, logger=logger, update_fn=update_fn)

# Affichage des résultats
print('Train C-Index:', metrics['c-index'][-1])
viz.plot_log(metrics)
