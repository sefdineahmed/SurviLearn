{
 "cells": [
  {
   "cell_type": "code",
   "execution_count": 25,
   "metadata": {
    "colab": {
     "base_uri": "https://localhost:8080/",
     "height": 1000
    },
    "collapsed": true,
    "id": "edpoWaJ07-sL",
    "jupyter": {
     "outputs_hidden": true
    },
    "outputId": "509b7288-983a-4f0e-808b-3ea0eb9666d1"
   },
   "outputs": [
    {
     "name": "stdout",
     "output_type": "stream",
     "text": [
      "Found existing installation: scikit-learn 1.5.2\n",
      "Uninstalling scikit-learn-1.5.2:\n",
      "  Would remove:\n",
      "    /usr/local/lib/python3.11/dist-packages/scikit_learn-1.5.2.dist-info/*\n",
      "    /usr/local/lib/python3.11/dist-packages/scikit_learn.libs/libgomp-a34b3233.so.1.0.0\n",
      "    /usr/local/lib/python3.11/dist-packages/sklearn/*\n",
      "Proceed (Y/n)? Y\n",
      "  Successfully uninstalled scikit-learn-1.5.2\n",
      "Found existing installation: scikit-survival 0.23.1\n",
      "Uninstalling scikit-survival-0.23.1:\n",
      "  Would remove:\n",
      "    /usr/local/lib/python3.11/dist-packages/scikit_survival-0.23.1.dist-info/*\n",
      "    /usr/local/lib/python3.11/dist-packages/sksurv/*\n",
      "Proceed (Y/n)? Y\n",
      "  Successfully uninstalled scikit-survival-0.23.1\n",
      "Y\n",
      "Collecting scikit-learn\n",
      "  Using cached scikit_learn-1.6.1-cp311-cp311-manylinux_2_17_x86_64.manylinux2014_x86_64.whl.metadata (18 kB)\n",
      "Collecting scikit-survival\n",
      "  Using cached scikit_survival-0.23.1-cp311-cp311-manylinux_2_17_x86_64.manylinux2014_x86_64.whl.metadata (48 kB)\n",
      "Requirement already satisfied: lifelines in /usr/local/lib/python3.11/dist-packages (0.30.0)\n",
      "Requirement already satisfied: numpy>=1.19.5 in /usr/local/lib/python3.11/dist-packages (from scikit-learn) (1.26.4)\n",
      "Requirement already satisfied: scipy>=1.6.0 in /usr/local/lib/python3.11/dist-packages (from scikit-learn) (1.13.1)\n",
      "Requirement already satisfied: joblib>=1.2.0 in /usr/local/lib/python3.11/dist-packages (from scikit-learn) (1.4.2)\n",
      "Requirement already satisfied: threadpoolctl>=3.1.0 in /usr/local/lib/python3.11/dist-packages (from scikit-learn) (3.5.0)\n",
      "Requirement already satisfied: ecos in /usr/local/lib/python3.11/dist-packages (from scikit-survival) (2.0.14)\n",
      "Requirement already satisfied: numexpr in /usr/local/lib/python3.11/dist-packages (from scikit-survival) (2.10.2)\n",
      "Requirement already satisfied: osqp!=0.6.0,!=0.6.1 in /usr/local/lib/python3.11/dist-packages (from scikit-survival) (0.6.7.post3)\n",
      "Requirement already satisfied: pandas>=1.4.0 in /usr/local/lib/python3.11/dist-packages (from scikit-survival) (2.2.2)\n",
      "Collecting scikit-learn\n",
      "  Using cached scikit_learn-1.5.2-cp311-cp311-manylinux_2_17_x86_64.manylinux2014_x86_64.whl.metadata (13 kB)\n",
      "Requirement already satisfied: matplotlib>=3.0 in /usr/local/lib/python3.11/dist-packages (from lifelines) (3.10.0)\n",
      "Requirement already satisfied: autograd>=1.5 in /usr/local/lib/python3.11/dist-packages (from lifelines) (1.7.0)\n",
      "Requirement already satisfied: autograd-gamma>=0.3 in /usr/local/lib/python3.11/dist-packages (from lifelines) (0.5.0)\n",
      "Requirement already satisfied: formulaic>=0.2.2 in /usr/local/lib/python3.11/dist-packages (from lifelines) (1.1.1)\n",
      "Requirement already satisfied: interface-meta>=1.2.0 in /usr/local/lib/python3.11/dist-packages (from formulaic>=0.2.2->lifelines) (1.3.0)\n",
      "Requirement already satisfied: typing-extensions>=4.2.0 in /usr/local/lib/python3.11/dist-packages (from formulaic>=0.2.2->lifelines) (4.12.2)\n",
      "Requirement already satisfied: wrapt>=1.0 in /usr/local/lib/python3.11/dist-packages (from formulaic>=0.2.2->lifelines) (1.17.2)\n",
      "Requirement already satisfied: contourpy>=1.0.1 in /usr/local/lib/python3.11/dist-packages (from matplotlib>=3.0->lifelines) (1.3.1)\n",
      "Requirement already satisfied: cycler>=0.10 in /usr/local/lib/python3.11/dist-packages (from matplotlib>=3.0->lifelines) (0.12.1)\n",
      "Requirement already satisfied: fonttools>=4.22.0 in /usr/local/lib/python3.11/dist-packages (from matplotlib>=3.0->lifelines) (4.55.8)\n",
      "Requirement already satisfied: kiwisolver>=1.3.1 in /usr/local/lib/python3.11/dist-packages (from matplotlib>=3.0->lifelines) (1.4.8)\n",
      "Requirement already satisfied: packaging>=20.0 in /usr/local/lib/python3.11/dist-packages (from matplotlib>=3.0->lifelines) (24.2)\n",
      "Requirement already satisfied: pillow>=8 in /usr/local/lib/python3.11/dist-packages (from matplotlib>=3.0->lifelines) (11.1.0)\n",
      "Requirement already satisfied: pyparsing>=2.3.1 in /usr/local/lib/python3.11/dist-packages (from matplotlib>=3.0->lifelines) (3.2.1)\n",
      "Requirement already satisfied: python-dateutil>=2.7 in /usr/local/lib/python3.11/dist-packages (from matplotlib>=3.0->lifelines) (2.8.2)\n",
      "Requirement already satisfied: qdldl in /usr/local/lib/python3.11/dist-packages (from osqp!=0.6.0,!=0.6.1->scikit-survival) (0.1.7.post5)\n",
      "Requirement already satisfied: pytz>=2020.1 in /usr/local/lib/python3.11/dist-packages (from pandas>=1.4.0->scikit-survival) (2025.1)\n",
      "Requirement already satisfied: tzdata>=2022.7 in /usr/local/lib/python3.11/dist-packages (from pandas>=1.4.0->scikit-survival) (2025.1)\n",
      "Requirement already satisfied: six>=1.5 in /usr/local/lib/python3.11/dist-packages (from python-dateutil>=2.7->matplotlib>=3.0->lifelines) (1.17.0)\n",
      "Using cached scikit_survival-0.23.1-cp311-cp311-manylinux_2_17_x86_64.manylinux2014_x86_64.whl (3.9 MB)\n",
      "Using cached scikit_learn-1.5.2-cp311-cp311-manylinux_2_17_x86_64.manylinux2014_x86_64.whl (13.3 MB)\n",
      "Installing collected packages: scikit-learn, scikit-survival\n",
      "Successfully installed scikit-learn-1.5.2 scikit-survival-0.23.1\n"
     ]
    },
    {
     "data": {
      "application/vnd.colab-display-data+json": {
       "id": "a505043c92cc421b8046f527211c3e4e",
       "pip_warning": {
        "packages": [
         "sksurv"
        ]
       }
      }
     },
     "metadata": {},
     "output_type": "display_data"
    }
   ],
   "source": [
    "!pip uninstall scikit-learn scikit-survival\n",
    "#!pip show scikit-learn\n",
    "!pip install scikit-learn scikit-survival lifelines\n",
    "#!pip install scikit-learn==1.1.0\n",
    "#!pip install scikit-survival==0.18.0\n",
    "#! pip install eli5==0.13.0"
   ]
  },
  {
   "cell_type": "code",
   "execution_count": 10,
   "metadata": {
    "id": "hq6M_kR5q4Y8"
   },
   "outputs": [],
   "source": [
    "### import necessary packages\n",
    "import pandas as pd\n",
    "import numpy as np\n",
    "import seaborn as sns\n",
    "%matplotlib inline\n",
    "import scipy.stats as stats\n",
    "import statsmodels.api as sm\n",
    "import matplotlib.pyplot as plt\n",
    "from itertools import product\n",
    "import matplotlib.pyplot as plt\n",
    "from sklearn.preprocessing import LabelEncoder\n",
    "from sklearn.model_selection import train_test_split"
   ]
  },
  {
   "cell_type": "code",
   "execution_count": 27,
   "metadata": {
    "colab": {
     "base_uri": "https://localhost:8080/"
    },
    "id": "I8V1d77hLJUu",
    "outputId": "16cf8ade-3601-44e3-b60e-b575036b3943"
   },
   "outputs": [
    {
     "name": "stdout",
     "output_type": "stream",
     "text": [
      "Drive already mounted at /content/drive; to attempt to forcibly remount, call drive.mount(\"/content/drive\", force_remount=True).\n"
     ]
    }
   ],
   "source": [
    "from google.colab import drive\n",
    "drive.mount('/content/drive')"
   ]
  },
  {
   "cell_type": "code",
   "execution_count": null,
   "metadata": {
    "colab": {
     "base_uri": "https://localhost:8080/",
     "height": 244
    },
    "id": "v1YW1u0GT_0X",
    "outputId": "b4ec7713-812b-43ff-8637-2e4f1bc8b5e2"
   },
   "outputs": [],
   "source": [
    "# Lire le fichier en sautant la première ligne\n",
    "df = pd.read_excel(\"/content/drive/MyDrive/GastricCancerData.xlsx\", skiprows=1)\n",
    "# Afficher les premières lignes du dataframe\n",
    "df.head()"
   ]
  },
  {
   "cell_type": "code",
   "execution_count": 12,
   "metadata": {
    "id": "EAEu5LEd6-pu"
   },
   "outputs": [],
   "source": [
    "df = pd.read_excel(\"D:/UADB/MEMOIRE/Data/GastricCancerData.xlsx\")"
   ]
  },
  {
   "cell_type": "code",
   "execution_count": 13,
   "metadata": {
    "colab": {
     "base_uri": "https://localhost:8080/"
    },
    "id": "zxexknWvZJrg",
    "outputId": "72d96e35-91b9-4367-d7d7-8ac715138b16"
   },
   "outputs": [
    {
     "data": {
      "text/plain": [
       "(337, 18)"
      ]
     },
     "execution_count": 13,
     "metadata": {},
     "output_type": "execute_result"
    }
   ],
   "source": [
    "#affichage des dimensions\n",
    "df.shape"
   ]
  },
  {
   "cell_type": "code",
   "execution_count": 14,
   "metadata": {
    "colab": {
     "base_uri": "https://localhost:8080/",
     "height": 244
    },
    "id": "-J3COsoVTL7F",
    "outputId": "055e9cc7-3263-40a7-a454-37c9e35954ca"
   },
   "outputs": [
    {
     "data": {
      "text/html": [
       "<div>\n",
       "<style scoped>\n",
       "    .dataframe tbody tr th:only-of-type {\n",
       "        vertical-align: middle;\n",
       "    }\n",
       "\n",
       "    .dataframe tbody tr th {\n",
       "        vertical-align: top;\n",
       "    }\n",
       "\n",
       "    .dataframe thead th {\n",
       "        text-align: right;\n",
       "    }\n",
       "</style>\n",
       "<table border=\"1\" class=\"dataframe\">\n",
       "  <thead>\n",
       "    <tr style=\"text-align: right;\">\n",
       "      <th></th>\n",
       "      <th>AGE</th>\n",
       "      <th>SEXE</th>\n",
       "      <th>Cardiopathie</th>\n",
       "      <th>Ulceregastrique</th>\n",
       "      <th>Douleurepigastrique</th>\n",
       "      <th>Ulcero-bourgeonnant</th>\n",
       "      <th>Constipation</th>\n",
       "      <th>Denitrution</th>\n",
       "      <th>Tabac</th>\n",
       "      <th>Mucineux</th>\n",
       "      <th>Tubuleux</th>\n",
       "      <th>Infiltrant</th>\n",
       "      <th>Stenosant</th>\n",
       "      <th>Metastases</th>\n",
       "      <th>Adenopathie</th>\n",
       "      <th>Traitement</th>\n",
       "      <th>Tempsdesuivi (Mois)</th>\n",
       "      <th>Deces</th>\n",
       "    </tr>\n",
       "  </thead>\n",
       "  <tbody>\n",
       "    <tr>\n",
       "      <th>0</th>\n",
       "      <td>65</td>\n",
       "      <td>0</td>\n",
       "      <td>0</td>\n",
       "      <td>0</td>\n",
       "      <td>1</td>\n",
       "      <td>0</td>\n",
       "      <td>1</td>\n",
       "      <td>1</td>\n",
       "      <td>1</td>\n",
       "      <td>1</td>\n",
       "      <td>0</td>\n",
       "      <td>1</td>\n",
       "      <td>1</td>\n",
       "      <td>1</td>\n",
       "      <td>1</td>\n",
       "      <td>1</td>\n",
       "      <td>1</td>\n",
       "      <td>1</td>\n",
       "    </tr>\n",
       "    <tr>\n",
       "      <th>1</th>\n",
       "      <td>34</td>\n",
       "      <td>0</td>\n",
       "      <td>0</td>\n",
       "      <td>0</td>\n",
       "      <td>1</td>\n",
       "      <td>0</td>\n",
       "      <td>1</td>\n",
       "      <td>0</td>\n",
       "      <td>1</td>\n",
       "      <td>1</td>\n",
       "      <td>1</td>\n",
       "      <td>1</td>\n",
       "      <td>1</td>\n",
       "      <td>1</td>\n",
       "      <td>1</td>\n",
       "      <td>0</td>\n",
       "      <td>1</td>\n",
       "      <td>1</td>\n",
       "    </tr>\n",
       "    <tr>\n",
       "      <th>2</th>\n",
       "      <td>55</td>\n",
       "      <td>1</td>\n",
       "      <td>0</td>\n",
       "      <td>0</td>\n",
       "      <td>1</td>\n",
       "      <td>0</td>\n",
       "      <td>1</td>\n",
       "      <td>0</td>\n",
       "      <td>1</td>\n",
       "      <td>1</td>\n",
       "      <td>0</td>\n",
       "      <td>1</td>\n",
       "      <td>0</td>\n",
       "      <td>1</td>\n",
       "      <td>1</td>\n",
       "      <td>1</td>\n",
       "      <td>1</td>\n",
       "      <td>1</td>\n",
       "    </tr>\n",
       "    <tr>\n",
       "      <th>3</th>\n",
       "      <td>60</td>\n",
       "      <td>0</td>\n",
       "      <td>1</td>\n",
       "      <td>1</td>\n",
       "      <td>1</td>\n",
       "      <td>0</td>\n",
       "      <td>1</td>\n",
       "      <td>0</td>\n",
       "      <td>1</td>\n",
       "      <td>1</td>\n",
       "      <td>1</td>\n",
       "      <td>1</td>\n",
       "      <td>0</td>\n",
       "      <td>1</td>\n",
       "      <td>0</td>\n",
       "      <td>1</td>\n",
       "      <td>2</td>\n",
       "      <td>0</td>\n",
       "    </tr>\n",
       "    <tr>\n",
       "      <th>4</th>\n",
       "      <td>65</td>\n",
       "      <td>1</td>\n",
       "      <td>1</td>\n",
       "      <td>0</td>\n",
       "      <td>1</td>\n",
       "      <td>0</td>\n",
       "      <td>1</td>\n",
       "      <td>0</td>\n",
       "      <td>1</td>\n",
       "      <td>0</td>\n",
       "      <td>0</td>\n",
       "      <td>1</td>\n",
       "      <td>1</td>\n",
       "      <td>0</td>\n",
       "      <td>1</td>\n",
       "      <td>0</td>\n",
       "      <td>2</td>\n",
       "      <td>1</td>\n",
       "    </tr>\n",
       "  </tbody>\n",
       "</table>\n",
       "</div>"
      ],
      "text/plain": [
       "   AGE  SEXE  Cardiopathie  Ulceregastrique  Douleurepigastrique  \\\n",
       "0   65     0             0                0                    1   \n",
       "1   34     0             0                0                    1   \n",
       "2   55     1             0                0                    1   \n",
       "3   60     0             1                1                    1   \n",
       "4   65     1             1                0                    1   \n",
       "\n",
       "   Ulcero-bourgeonnant  Constipation  Denitrution  Tabac  Mucineux  Tubuleux  \\\n",
       "0                    0             1            1      1         1         0   \n",
       "1                    0             1            0      1         1         1   \n",
       "2                    0             1            0      1         1         0   \n",
       "3                    0             1            0      1         1         1   \n",
       "4                    0             1            0      1         0         0   \n",
       "\n",
       "   Infiltrant  Stenosant  Metastases  Adenopathie  Traitement  \\\n",
       "0           1          1           1            1           1   \n",
       "1           1          1           1            1           0   \n",
       "2           1          0           1            1           1   \n",
       "3           1          0           1            0           1   \n",
       "4           1          1           0            1           0   \n",
       "\n",
       "   Tempsdesuivi (Mois)  Deces  \n",
       "0                    1      1  \n",
       "1                    1      1  \n",
       "2                    1      1  \n",
       "3                    2      0  \n",
       "4                    2      1  "
      ]
     },
     "execution_count": 14,
     "metadata": {},
     "output_type": "execute_result"
    }
   ],
   "source": [
    "from sklearn.preprocessing import LabelEncoder, OneHotEncoder\n",
    "# Identifier les colonnes catégoriques\n",
    "CatCols = df.select_dtypes(include=['object']).columns\n",
    "# Encodage des variables catégoriques\n",
    "#Label Encoding\n",
    "label_encoder = LabelEncoder()\n",
    "for col in CatCols:\n",
    "    df[col] = label_encoder.fit_transform(df[col].astype(str))\n",
    "\n",
    "df.head()"
   ]
  },
  {
   "cell_type": "markdown",
   "metadata": {
    "id": "0kZaINl5v59n"
   },
   "source": [
    "\n",
    "## **I.Random Survival Forest**\n"
   ]
  },
  {
   "cell_type": "code",
   "execution_count": null,
   "metadata": {},
   "outputs": [],
   "source": [
    "#!pip install --upgrade scikit-survival\n",
    "!pip install --upgrade scikit-learn"
   ]
  },
  {
   "cell_type": "code",
   "execution_count": 31,
   "metadata": {},
   "outputs": [],
   "source": [
    "from sksurv.datasets import load_gbsg2\n",
    "from sksurv.preprocessing import OneHotEncoder\n",
    "from sksurv.ensemble import RandomSurvivalForest"
   ]
  },
  {
   "cell_type": "markdown",
   "metadata": {
    "id": "wT5oIvNXlhcz"
   },
   "source": [
    "**Données employées**  \n",
    "Les variables cliniques et tumorales retenues pour l'analyse du risque de décès chez les patients atteints d'un cancer de l'estomac ont été sélectionnées selon leur pertinence statistique dans le modèle de Cox et leur contribution explicative mesurée par les valeurs SHAP. Parmi ces variables figuraient :**l'âge des patients**, la présence de **comorbidités (cardiopathies)**, des **symptômes cliniques** (douleur épigastrique, ulcère gastrique, lésion ulcéro-bourgeonnante), des **facteurs liés au mode de vie** (tabagisme, dénutrition), ainsi que des **caractéristiques tumorales** spécifiques (forme mucineuse, infiltration, sténose, métastases et adénopathies). Ces critères ont été retenus car ils ont systématiquement démontré, à travers le modèle de Cox et leurs valeurs SHAP positives, une influence significative sur la réduction de la survie. La robustesse de ces variables, validée à la fois par une approche statistique classique et par une analyse d'interprétabilité moderne (SHAP), fournit une base solide pour les explorations ultérieures.\n",
    "Dans ce chapitres, nous étendrons cette analyse à des approches de *machine learning*, afin de comparer les performances prédictives et les insights cliniques entre méthodes traditionnelles et algorithmes avancés.  "
   ]
  },
  {
   "cell_type": "code",
   "execution_count": null,
   "metadata": {
    "id": "wZk2IbAS3BYr"
   },
   "outputs": [],
   "source": [
    "# Lire le fichier en sautant la première ligne\n",
    "df = pd.read_excel(\"/content/drive/MyDrive/GastricCancerData.xlsx\", skiprows=1)\n",
    "# Afficher les premières lignes du dataframe\n",
    "df.head()\n",
    "from sklearn.preprocessing import LabelEncoder, OneHotEncoder\n",
    "# Identifier les colonnes catégoriques\n",
    "CatCols = df.select_dtypes(include=['object']).columns\n",
    "# Encodage des variables catégoriques\n",
    "#Label Encoding\n",
    "label_encoder = LabelEncoder()\n",
    "for col in CatCols:\n",
    "    df[col] = label_encoder.fit_transform(df[col].astype(str))"
   ]
  },
  {
   "cell_type": "code",
   "execution_count": 17,
   "metadata": {},
   "outputs": [],
   "source": [
    "# Effacer les variables non pertinantes\n",
    "clean=['SEXE','Tubuleux','Traitement','Constipation']\n",
    "df=df.drop(columns=clean,axis=1)"
   ]
  },
  {
   "cell_type": "code",
   "execution_count": 18,
   "metadata": {
    "colab": {
     "base_uri": "https://localhost:8080/"
    },
    "id": "5T5cIfqcdYLC",
    "outputId": "5f790337-c7c8-4258-8974-ec6a35a14895"
   },
   "outputs": [
    {
     "name": "stdout",
     "output_type": "stream",
     "text": [
      "33.8% des enregistrements sont censurés\n"
     ]
    }
   ],
   "source": [
    "n_censored = df.shape[0] - df[\"Deces\"].sum()\n",
    "print(f\"{n_censored / df.shape[0] * 100:.1f}% des enregistrements sont censurés\")"
   ]
  },
  {
   "cell_type": "code",
   "execution_count": 32,
   "metadata": {
    "colab": {
     "base_uri": "https://localhost:8080/"
    },
    "id": "XnqBtoJUdkep",
    "outputId": "d78840f2-ac30-4c3a-954f-76244bf94691"
   },
   "outputs": [
    {
     "name": "stderr",
     "output_type": "stream",
     "text": [
      "C:\\Users\\Sefdine\\AppData\\Local\\anaconda3\\Lib\\site-packages\\sklearn\\base.py:474: FutureWarning: `BaseEstimator._validate_data` is deprecated in 1.6 and will be removed in 1.7. Use `sklearn.utils.validation.validate_data` instead. This function becomes public and is part of the scikit-learn developer API.\n",
      "  # that has no feature names.\n"
     ]
    },
    {
     "ename": "AttributeError",
     "evalue": "'RandomSurvivalForest' object has no attribute 'criterion'",
     "output_type": "error",
     "traceback": [
      "\u001b[1;31m---------------------------------------------------------------------------\u001b[0m",
      "\u001b[1;31mAttributeError\u001b[0m                            Traceback (most recent call last)",
      "Cell \u001b[1;32mIn[32], line 17\u001b[0m\n\u001b[0;32m     15\u001b[0m \u001b[38;5;66;03m# fit a Random Surival Forest model with all metabolites\u001b[39;00m\n\u001b[0;32m     16\u001b[0m rsf \u001b[38;5;241m=\u001b[39m RandomSurvivalForest(random_state\u001b[38;5;241m=\u001b[39m\u001b[38;5;241m42\u001b[39m)\n\u001b[1;32m---> 17\u001b[0m rsf\u001b[38;5;241m.\u001b[39mfit(X_train,y_train)\n\u001b[0;32m     19\u001b[0m \u001b[38;5;66;03m# using all metabolites as feature,and get a concordance index of 0.660458 in testing data\u001b[39;00m\n\u001b[0;32m     20\u001b[0m \u001b[38;5;28mprint\u001b[39m(\u001b[38;5;124m'\u001b[39m\u001b[38;5;124mtraining data c-index: \u001b[39m\u001b[38;5;132;01m%f\u001b[39;00m\u001b[38;5;124m'\u001b[39m \u001b[38;5;241m%\u001b[39m rsf\u001b[38;5;241m.\u001b[39mscore(X_train,y_train))\n",
      "File \u001b[1;32m~\\AppData\\Local\\anaconda3\\Lib\\site-packages\\sksurv\\ensemble\\forest.py:107\u001b[0m, in \u001b[0;36m_BaseSurvivalForest.fit\u001b[1;34m(self, X, y, sample_weight)\u001b[0m\n\u001b[0;32m     89\u001b[0m \u001b[38;5;250m\u001b[39m\u001b[38;5;124;03m\"\"\"Build a forest of survival trees from the training set (X, y).\u001b[39;00m\n\u001b[0;32m     90\u001b[0m \n\u001b[0;32m     91\u001b[0m \u001b[38;5;124;03mParameters\u001b[39;00m\n\u001b[1;32m   (...)\u001b[0m\n\u001b[0;32m    103\u001b[0m \u001b[38;5;124;03mself\u001b[39;00m\n\u001b[0;32m    104\u001b[0m \u001b[38;5;124;03m\"\"\"\u001b[39;00m\n\u001b[0;32m    105\u001b[0m \u001b[38;5;28mself\u001b[39m\u001b[38;5;241m.\u001b[39m_validate_params()\n\u001b[1;32m--> 107\u001b[0m X \u001b[38;5;241m=\u001b[39m \u001b[38;5;28mself\u001b[39m\u001b[38;5;241m.\u001b[39m_validate_data(X, dtype\u001b[38;5;241m=\u001b[39mDTYPE, accept_sparse\u001b[38;5;241m=\u001b[39m\u001b[38;5;124m\"\u001b[39m\u001b[38;5;124mcsc\u001b[39m\u001b[38;5;124m\"\u001b[39m, ensure_min_samples\u001b[38;5;241m=\u001b[39m\u001b[38;5;241m2\u001b[39m, force_all_finite\u001b[38;5;241m=\u001b[39m\u001b[38;5;28;01mFalse\u001b[39;00m)\n\u001b[0;32m    108\u001b[0m event, time \u001b[38;5;241m=\u001b[39m check_array_survival(X, y)\n\u001b[0;32m    110\u001b[0m \u001b[38;5;66;03m# _compute_missing_values_in_feature_mask checks if X has missing values and\u001b[39;00m\n\u001b[0;32m    111\u001b[0m \u001b[38;5;66;03m# will raise an error if the underlying tree base estimator can't handle missing\u001b[39;00m\n\u001b[0;32m    112\u001b[0m \u001b[38;5;66;03m# values.\u001b[39;00m\n",
      "File \u001b[1;32m~\\AppData\\Local\\anaconda3\\Lib\\site-packages\\sklearn\\base.py:480\u001b[0m, in \u001b[0;36m_validate_data\u001b[1;34m(self, *args, **kwargs)\u001b[0m\n\u001b[0;32m      0\u001b[0m <Error retrieving source code with stack_data see ipython/ipython#13598>\n",
      "File \u001b[1;32m~\\AppData\\Local\\anaconda3\\Lib\\site-packages\\sklearn\\utils\\validation.py:2920\u001b[0m, in \u001b[0;36mvalidate_data\u001b[1;34m(_estimator, X, y, reset, validate_separately, skip_check_array, **check_params)\u001b[0m\n\u001b[0;32m      0\u001b[0m <Error retrieving source code with stack_data see ipython/ipython#13598>\n",
      "File \u001b[1;32m~\\AppData\\Local\\anaconda3\\Lib\\site-packages\\sklearn\\utils\\_tags.py:398\u001b[0m, in \u001b[0;36mget_tags\u001b[1;34m(estimator)\u001b[0m\n\u001b[0;32m      0\u001b[0m <Error retrieving source code with stack_data see ipython/ipython#13598>\n",
      "File \u001b[1;32m~\\AppData\\Local\\anaconda3\\Lib\\site-packages\\sklearn\\ensemble\\_forest.py:719\u001b[0m, in \u001b[0;36m__sklearn_tags__\u001b[1;34m(self)\u001b[0m\n\u001b[0;32m    705\u001b[0m     \"\"\"The subset of drawn samples for each base estimator.\n\u001b[0;32m    706\u001b[0m \n\u001b[0;32m    707\u001b[0m     Returns a dynamically generated list of indices identifying\n\u001b[1;32m   (...)\u001b[0m\n\u001b[0;32m    713\u001b[0m     data. Thus fetching the property may be slower than expected.\n\u001b[0;32m    714\u001b[0m     \"\"\"\n\u001b[0;32m    715\u001b[0m     return [sample_indices for sample_indices in self._get_estimators_indices()]\n\u001b[0;32m    717\u001b[0m def _more_tags(self):\n\u001b[0;32m    718\u001b[0m     # Only the criterion is required to determine if the tree supports\n\u001b[1;32m--> 719\u001b[0m     # missing values\n\u001b[0;32m    720\u001b[0m     estimator = type(self.estimator)(criterion=self.criterion)\n\u001b[0;32m    721\u001b[0m     return {\"allow_nan\": _safe_tags(estimator, key=\"allow_nan\")}\n",
      "\u001b[1;31mAttributeError\u001b[0m: 'RandomSurvivalForest' object has no attribute 'criterion'"
     ]
    }
   ],
   "source": [
    "from sksurv.ensemble import RandomSurvivalForest\n",
    "from sklearn.model_selection import train_test_split\n",
    "from sksurv.metrics import concordance_index_censored\n",
    "\n",
    "# Assurez-vous que y est bien structuré\n",
    "y = np.array(list(zip(df[\"Deces\"].astype(bool), df[\"Tempsdesuivi (Mois)\"])),\n",
    "             dtype=[(\"event\", \"?\"), (\"time\", \"<f8\")])\n",
    "\n",
    "# Séparer les variables explicatives et la cible\n",
    "X = df.drop([\"Deces\", \"Tempsdesuivi (Mois)\"], axis=1)\n",
    "\n",
    "# Division des données en ensemble d'entraînement et de test\n",
    "X_train, X_test, y_train, y_test = train_test_split(X, y, test_size=0.2, random_state=42)\n",
    "\n",
    "# fit a Random Surival Forest model with all metabolites\n",
    "rsf = RandomSurvivalForest(random_state=42)\n",
    "rsf.fit(X_train,y_train)\n",
    "\n",
    "# using all metabolites as feature,and get a concordance index of 0.660458 in testing data\n",
    "print('training data c-index: %f' % rsf.score(X_train,y_train))\n",
    "print('testing data c-index: %f' % rsf.score(X_test,y_test))"
   ]
  },
  {
   "cell_type": "code",
   "execution_count": 9,
   "metadata": {
    "colab": {
     "base_uri": "https://localhost:8080/"
    },
    "id": "7BNyIRPEMa-g",
    "outputId": "d249639f-b838-4ee6-c7f6-d361728d5313"
   },
   "outputs": [],
   "source": [
    "#!pip install shap"
   ]
  },
  {
   "cell_type": "code",
   "execution_count": 11,
   "metadata": {
    "colab": {
     "base_uri": "https://localhost:8080/",
     "height": 1000
    },
    "id": "JbUScF-cL_nq",
    "outputId": "eba6bb9d-44b7-48b5-f003-0da63ded124c"
   },
   "outputs": [
    {
     "name": "stderr",
     "output_type": "stream",
     "text": [
      "PermutationExplainer explainer: 270it [03:04,  1.40it/s]                                                               \n"
     ]
    },
    {
     "name": "stdout",
     "output_type": "stream",
     "text": [
      "Impact global des variables :\n",
      "\n",
      "| Variable            | Valeur Moyenne   | SHAP   |\n",
      "|:--------------------|:-----------------|:-------|\n",
      "| Infiltrant          | 0.52             | 5.89   |\n",
      "| Tabac               | 0.54             | 5.59   |\n",
      "| Adenopathie         | 0.41             | 5.55   |\n",
      "| Stenosant           | 0.46             | 3.79   |\n",
      "| Metastases          | 0.43             | 3.71   |\n",
      "| Ulceregastrique     | 0.38             | 1.68   |\n",
      "| Ulcero-bourgeonnant | 0.34             | 1.68   |\n",
      "| Cardiopathie        | 0.32             | 1.61   |\n",
      "| Denitrution         | 0.34             | 1.04   |\n",
      "| AGE                 | 52.14            | 0.61   |\n",
      "| Mucineux            | 0.65             | 0.52   |\n",
      "| Douleurepigastrique | 0.87             | 0.18   |\n"
     ]
    },
    {
     "data": {
      "image/png": "[encoded data removed]",
      "text/plain": [
       "<Figure size 800x630 with 2 Axes>"
      ]
     },
     "metadata": {},
     "output_type": "display_data"
    }
   ],
   "source": [
    "import numpy as np\n",
    "import pandas as pd\n",
    "import shap\n",
    "import matplotlib.pyplot as plt\n",
    "from sklearn.model_selection import train_test_split\n",
    "from sksurv.ensemble import RandomSurvivalForest\n",
    "from sksurv.metrics import concordance_index_censored\n",
    "\n",
    "\n",
    "# Sélection des variables pour l'analyse SHAP\n",
    "selected_vars = ['AGE', 'Cardiopathie', 'Ulceregastrique', 'Douleurepigastrique',\n",
    "                 'Ulcero-bourgeonnant', 'Denitrution', 'Tabac', 'Mucineux',\n",
    "                 'Infiltrant', 'Stenosant', 'Metastases', 'Adenopathie']\n",
    "\n",
    "# Utilisation de SHAP PermutationExplainer\n",
    "explainer = shap.PermutationExplainer(rsf.predict, X_train[selected_vars])\n",
    "shap_values = explainer(X_train[selected_vars])\n",
    "\n",
    "# Création du tableau global des valeurs SHAP\n",
    "shap_global = pd.DataFrame({\n",
    "    'Variable': selected_vars,\n",
    "    'Valeur Moyenne': X[selected_vars].mean().round(2).values,\n",
    "    'SHAP': np.abs(shap_values.values).mean(axis=0).round(2)  # Prendre la moyenne des valeurs absolues\n",
    "}).sort_values('SHAP', ascending=False).reset_index(drop=True)\n",
    "\n",
    "# Affichage stylisé du tableau\n",
    "print(\"Impact global des variables :\\n\")\n",
    "print(shap_global.to_markdown(index=False, numalign=\"left\", stralign=\"left\"))\n",
    "\n",
    "# Graphique SHAP amélioré\n",
    "plt.figure(figsize=(12, 8))\n",
    "shap.summary_plot(\n",
    "    shap_values.values,\n",
    "    X_train[selected_vars],\n",
    "    plot_type=\"dot\",\n",
    "    color=plt.get_cmap(\"coolwarm\"),\n",
    "    alpha=0.7\n",
    ")\n"
   ]
  },
  {
   "cell_type": "code",
   "execution_count": 15,
   "metadata": {
    "colab": {
     "base_uri": "https://localhost:8080/",
     "height": 356
    },
    "id": "p8KaSWhFn_Ai",
    "outputId": "a5d55211-e5f4-42ae-997d-72bfca9116e2"
   },
   "outputs": [
    {
     "ename": "TypeError",
     "evalue": "float() argument must be a string or a real number, not 'StepFunction'",
     "output_type": "error",
     "traceback": [
      "\u001b[0;31m---------------------------------------------------------------------------\u001b[0m",
      "\u001b[0;31mTypeError\u001b[0m                                 Traceback (most recent call last)",
      "\u001b[0;32m<ipython-input-15-14de7739f77e>\u001b[0m in \u001b[0;36m<cell line: 0>\u001b[0;34m()\u001b[0m\n\u001b[1;32m     11\u001b[0m \u001b[0;34m\u001b[0m\u001b[0m\n\u001b[1;32m     12\u001b[0m \u001b[0;31m# Calcul du score de Brier\u001b[0m\u001b[0;34m\u001b[0m\u001b[0;34m\u001b[0m\u001b[0m\n\u001b[0;32m---> 13\u001b[0;31m \u001b[0mbrier_scores\u001b[0m \u001b[0;34m=\u001b[0m \u001b[0mbrier_score\u001b[0m\u001b[0;34m(\u001b[0m\u001b[0my_train\u001b[0m\u001b[0;34m,\u001b[0m \u001b[0my_test\u001b[0m\u001b[0;34m,\u001b[0m \u001b[0mrsf\u001b[0m\u001b[0;34m.\u001b[0m\u001b[0mpredict_survival_function\u001b[0m\u001b[0;34m(\u001b[0m\u001b[0mX_test\u001b[0m\u001b[0;34m)\u001b[0m\u001b[0;34m,\u001b[0m \u001b[0mtime_points\u001b[0m\u001b[0;34m)\u001b[0m\u001b[0;34m\u001b[0m\u001b[0;34m\u001b[0m\u001b[0m\n\u001b[0m\u001b[1;32m     14\u001b[0m \u001b[0;34m\u001b[0m\u001b[0m\n\u001b[1;32m     15\u001b[0m \u001b[0;31m# Affichage du score moyen\u001b[0m\u001b[0;34m\u001b[0m\u001b[0;34m\u001b[0m\u001b[0m\n",
      "\u001b[0;32m/usr/local/lib/python3.11/dist-packages/sksurv/metrics.py\u001b[0m in \u001b[0;36mbrier_score\u001b[0;34m(survival_train, survival_test, estimate, times)\u001b[0m\n\u001b[1;32m    609\u001b[0m     \"\"\"\n\u001b[1;32m    610\u001b[0m     \u001b[0mtest_event\u001b[0m\u001b[0;34m,\u001b[0m \u001b[0mtest_time\u001b[0m \u001b[0;34m=\u001b[0m \u001b[0mcheck_y_survival\u001b[0m\u001b[0;34m(\u001b[0m\u001b[0msurvival_test\u001b[0m\u001b[0;34m)\u001b[0m\u001b[0;34m\u001b[0m\u001b[0;34m\u001b[0m\u001b[0m\n\u001b[0;32m--> 611\u001b[0;31m     \u001b[0mestimate\u001b[0m\u001b[0;34m,\u001b[0m \u001b[0mtimes\u001b[0m \u001b[0;34m=\u001b[0m \u001b[0m_check_estimate_2d\u001b[0m\u001b[0;34m(\u001b[0m\u001b[0mestimate\u001b[0m\u001b[0;34m,\u001b[0m \u001b[0mtest_time\u001b[0m\u001b[0;34m,\u001b[0m \u001b[0mtimes\u001b[0m\u001b[0;34m,\u001b[0m \u001b[0mestimator\u001b[0m\u001b[0;34m=\u001b[0m\u001b[0;34m\"brier_score\"\u001b[0m\u001b[0;34m)\u001b[0m\u001b[0;34m\u001b[0m\u001b[0;34m\u001b[0m\u001b[0m\n\u001b[0m\u001b[1;32m    612\u001b[0m     \u001b[0;32mif\u001b[0m \u001b[0mestimate\u001b[0m\u001b[0;34m.\u001b[0m\u001b[0mndim\u001b[0m \u001b[0;34m==\u001b[0m \u001b[0;36m1\u001b[0m \u001b[0;32mand\u001b[0m \u001b[0mtimes\u001b[0m\u001b[0;34m.\u001b[0m\u001b[0mshape\u001b[0m\u001b[0;34m[\u001b[0m\u001b[0;36m0\u001b[0m\u001b[0;34m]\u001b[0m \u001b[0;34m==\u001b[0m \u001b[0;36m1\u001b[0m\u001b[0;34m:\u001b[0m\u001b[0;34m\u001b[0m\u001b[0;34m\u001b[0m\u001b[0m\n\u001b[1;32m    613\u001b[0m         \u001b[0mestimate\u001b[0m \u001b[0;34m=\u001b[0m \u001b[0mestimate\u001b[0m\u001b[0;34m.\u001b[0m\u001b[0mreshape\u001b[0m\u001b[0;34m(\u001b[0m\u001b[0;34m-\u001b[0m\u001b[0;36m1\u001b[0m\u001b[0;34m,\u001b[0m \u001b[0;36m1\u001b[0m\u001b[0;34m)\u001b[0m\u001b[0;34m\u001b[0m\u001b[0;34m\u001b[0m\u001b[0m\n",
      "\u001b[0;32m/usr/local/lib/python3.11/dist-packages/sksurv/metrics.py\u001b[0m in \u001b[0;36m_check_estimate_2d\u001b[0;34m(estimate, test_time, time_points, estimator)\u001b[0m\n\u001b[1;32m     74\u001b[0m \u001b[0;34m\u001b[0m\u001b[0m\n\u001b[1;32m     75\u001b[0m \u001b[0;32mdef\u001b[0m \u001b[0m_check_estimate_2d\u001b[0m\u001b[0;34m(\u001b[0m\u001b[0mestimate\u001b[0m\u001b[0;34m,\u001b[0m \u001b[0mtest_time\u001b[0m\u001b[0;34m,\u001b[0m \u001b[0mtime_points\u001b[0m\u001b[0;34m,\u001b[0m \u001b[0mestimator\u001b[0m\u001b[0;34m)\u001b[0m\u001b[0;34m:\u001b[0m\u001b[0;34m\u001b[0m\u001b[0;34m\u001b[0m\u001b[0m\n\u001b[0;32m---> 76\u001b[0;31m     \u001b[0mestimate\u001b[0m \u001b[0;34m=\u001b[0m \u001b[0mcheck_array\u001b[0m\u001b[0;34m(\u001b[0m\u001b[0mestimate\u001b[0m\u001b[0;34m,\u001b[0m \u001b[0mensure_2d\u001b[0m\u001b[0;34m=\u001b[0m\u001b[0;32mFalse\u001b[0m\u001b[0;34m,\u001b[0m \u001b[0mallow_nd\u001b[0m\u001b[0;34m=\u001b[0m\u001b[0;32mFalse\u001b[0m\u001b[0;34m,\u001b[0m \u001b[0minput_name\u001b[0m\u001b[0;34m=\u001b[0m\u001b[0;34m\"estimate\"\u001b[0m\u001b[0;34m,\u001b[0m \u001b[0mestimator\u001b[0m\u001b[0;34m=\u001b[0m\u001b[0mestimator\u001b[0m\u001b[0;34m)\u001b[0m\u001b[0;34m\u001b[0m\u001b[0;34m\u001b[0m\u001b[0m\n\u001b[0m\u001b[1;32m     77\u001b[0m     \u001b[0mtime_points\u001b[0m \u001b[0;34m=\u001b[0m \u001b[0m_check_times\u001b[0m\u001b[0;34m(\u001b[0m\u001b[0mtest_time\u001b[0m\u001b[0;34m,\u001b[0m \u001b[0mtime_points\u001b[0m\u001b[0;34m)\u001b[0m\u001b[0;34m\u001b[0m\u001b[0;34m\u001b[0m\u001b[0m\n\u001b[1;32m     78\u001b[0m     \u001b[0mcheck_consistent_length\u001b[0m\u001b[0;34m(\u001b[0m\u001b[0mtest_time\u001b[0m\u001b[0;34m,\u001b[0m \u001b[0mestimate\u001b[0m\u001b[0;34m)\u001b[0m\u001b[0;34m\u001b[0m\u001b[0;34m\u001b[0m\u001b[0m\n",
      "\u001b[0;32m/usr/local/lib/python3.11/dist-packages/sklearn/utils/validation.py\u001b[0m in \u001b[0;36mcheck_array\u001b[0;34m(array, accept_sparse, accept_large_sparse, dtype, order, copy, force_writeable, force_all_finite, ensure_2d, allow_nd, ensure_min_samples, ensure_min_features, estimator, input_name)\u001b[0m\n\u001b[1;32m   1010\u001b[0m                     \u001b[0marray\u001b[0m \u001b[0;34m=\u001b[0m \u001b[0mxp\u001b[0m\u001b[0;34m.\u001b[0m\u001b[0mastype\u001b[0m\u001b[0;34m(\u001b[0m\u001b[0marray\u001b[0m\u001b[0;34m,\u001b[0m \u001b[0mdtype\u001b[0m\u001b[0;34m,\u001b[0m \u001b[0mcopy\u001b[0m\u001b[0;34m=\u001b[0m\u001b[0;32mFalse\u001b[0m\u001b[0;34m)\u001b[0m\u001b[0;34m\u001b[0m\u001b[0;34m\u001b[0m\u001b[0m\n\u001b[1;32m   1011\u001b[0m                 \u001b[0;32melse\u001b[0m\u001b[0;34m:\u001b[0m\u001b[0;34m\u001b[0m\u001b[0;34m\u001b[0m\u001b[0m\n\u001b[0;32m-> 1012\u001b[0;31m                     \u001b[0marray\u001b[0m \u001b[0;34m=\u001b[0m \u001b[0m_asarray_with_order\u001b[0m\u001b[0;34m(\u001b[0m\u001b[0marray\u001b[0m\u001b[0;34m,\u001b[0m \u001b[0morder\u001b[0m\u001b[0;34m=\u001b[0m\u001b[0morder\u001b[0m\u001b[0;34m,\u001b[0m \u001b[0mdtype\u001b[0m\u001b[0;34m=\u001b[0m\u001b[0mdtype\u001b[0m\u001b[0;34m,\u001b[0m \u001b[0mxp\u001b[0m\u001b[0;34m=\u001b[0m\u001b[0mxp\u001b[0m\u001b[0;34m)\u001b[0m\u001b[0;34m\u001b[0m\u001b[0;34m\u001b[0m\u001b[0m\n\u001b[0m\u001b[1;32m   1013\u001b[0m             \u001b[0;32mexcept\u001b[0m \u001b[0mComplexWarning\u001b[0m \u001b[0;32mas\u001b[0m \u001b[0mcomplex_warning\u001b[0m\u001b[0;34m:\u001b[0m\u001b[0;34m\u001b[0m\u001b[0;34m\u001b[0m\u001b[0m\n\u001b[1;32m   1014\u001b[0m                 raise ValueError(\n",
      "\u001b[0;32m/usr/local/lib/python3.11/dist-packages/sklearn/utils/_array_api.py\u001b[0m in \u001b[0;36m_asarray_with_order\u001b[0;34m(array, dtype, order, copy, xp, device)\u001b[0m\n\u001b[1;32m    743\u001b[0m             \u001b[0marray\u001b[0m \u001b[0;34m=\u001b[0m \u001b[0mnumpy\u001b[0m\u001b[0;34m.\u001b[0m\u001b[0marray\u001b[0m\u001b[0;34m(\u001b[0m\u001b[0marray\u001b[0m\u001b[0;34m,\u001b[0m \u001b[0morder\u001b[0m\u001b[0;34m=\u001b[0m\u001b[0morder\u001b[0m\u001b[0;34m,\u001b[0m \u001b[0mdtype\u001b[0m\u001b[0;34m=\u001b[0m\u001b[0mdtype\u001b[0m\u001b[0;34m)\u001b[0m\u001b[0;34m\u001b[0m\u001b[0;34m\u001b[0m\u001b[0m\n\u001b[1;32m    744\u001b[0m         \u001b[0;32melse\u001b[0m\u001b[0;34m:\u001b[0m\u001b[0;34m\u001b[0m\u001b[0;34m\u001b[0m\u001b[0m\n\u001b[0;32m--> 745\u001b[0;31m             \u001b[0marray\u001b[0m \u001b[0;34m=\u001b[0m \u001b[0mnumpy\u001b[0m\u001b[0;34m.\u001b[0m\u001b[0masarray\u001b[0m\u001b[0;34m(\u001b[0m\u001b[0marray\u001b[0m\u001b[0;34m,\u001b[0m \u001b[0morder\u001b[0m\u001b[0;34m=\u001b[0m\u001b[0morder\u001b[0m\u001b[0;34m,\u001b[0m \u001b[0mdtype\u001b[0m\u001b[0;34m=\u001b[0m\u001b[0mdtype\u001b[0m\u001b[0;34m)\u001b[0m\u001b[0;34m\u001b[0m\u001b[0;34m\u001b[0m\u001b[0m\n\u001b[0m\u001b[1;32m    746\u001b[0m \u001b[0;34m\u001b[0m\u001b[0m\n\u001b[1;32m    747\u001b[0m         \u001b[0;31m# At this point array is a NumPy ndarray. We convert it to an array\u001b[0m\u001b[0;34m\u001b[0m\u001b[0;34m\u001b[0m\u001b[0m\n",
      "\u001b[0;31mTypeError\u001b[0m: float() argument must be a string or a real number, not 'StepFunction'"
     ]
    }
   ],
   "source": [
    "import numpy as np\n",
    "import pandas as pd\n",
    "import matplotlib.pyplot as plt\n",
    "from sklearn.model_selection import train_test_split\n",
    "from sksurv.ensemble import RandomSurvivalForest\n",
    "from sksurv.metrics import brier_score\n",
    "from sksurv.util import Surv\n",
    "\n",
    "# Définition des temps d'évaluation\n",
    "time_points = np.linspace(y_test[\"time\"].min(), y_test[\"time\"].max(), 100)\n",
    "\n",
    "# Calcul du score de Brier\n",
    "brier_scores = brier_score(y_train, y_test, rsf.predict_survival_function(X_test), time_points)\n",
    "\n",
    "# Affichage du score moyen\n",
    "print(f\"Score de Brier moyen : {np.mean(brier_scores[1]):.4f}\")\n",
    "\n",
    "# 📊 Tracer l'évolution du score de Brier\n",
    "plt.figure(figsize=(10, 6))\n",
    "plt.plot(time_points, brier_scores[1], label=\"Score de Brier\", color='b', lw=2)\n",
    "plt.xlabel(\"Temps\")\n",
    "plt.ylabel(\"Score de Brier\")\n",
    "plt.title(\"Évolution du Score de Brier au fil du temps\")\n",
    "plt.legend()\n",
    "plt.grid(True, linestyle=\"--\", alpha=0.6)\n",
    "plt.show()\n"
   ]
  },
  {
   "cell_type": "markdown",
   "metadata": {
    "id": "Leevm1DtnB3k"
   },
   "source": [
    "## **Optimisation des hyperparamètres**  \n",
    "Pour maximiser la performance prédictive des modèles *Random Survival Forest* et *Gradient Boosting Survival*, une optimisation systématique des hyperparamètres a été réalisée à l'aide d'une **recherche exhaustive par grille (Grid Search)** couplée à une **validation croisée sur 5 plis**. Les hyperparamètres testés incluaient des éléments clés comme le nombre d'arbres (*n_estimators* : 50, 100, 200), la profondeur maximale des arbres (*max_depth* : 3, 5, 10), et des critères de division (*min_samples_split*, *min_samples_leaf*). Pour le *Random Survival Forest*, l'impact du nombre maximal de fonctionnalités (*max_features*) a également été exploré, tandis que le *Gradient Boosting* a intégré une analyse du taux d'apprentissage (*learning_rate* : 0.01, 0.1, 0.2). La sélection finale des combinaisons optimales s'est basée sur l'**indice de concordance** (*C-index*), une métrique centrale en analyse de survie pour évaluer la cohérence entre les risques prédits et les temps observés. `Cette approche rigoureuse a permis d'identifier les configurations les plus robustes pour chaque modèle, garantissant à la fois la stabilité des prédictions et la prévention du surajustement. Les résultats détaillés de cette optimisation serviront de base pour la comparaison des performances avec les modèles statistiques classiques dans les sections suivantes.`"
   ]
  },
  {
   "cell_type": "markdown",
   "metadata": {
    "id": "H0s7YZL3Fsyu"
   },
   "source": [
    "**Données employées**  \n",
    "Pour optimiser les performances des modèles *Random Survival Forest* et *Gradient Boosting Survival Tree*, une recherche systématique des hyperparamètres a été réalisée via une approche de *Grid Search* avec validation croisée (*GridSearchCV*). Pour chaque modèle, une grille d'hyperparamètres clés a été définie :  \n",
    "- **Random Survival Forest** : nombre d'arbres (`n_estimators` : 50, 100, 200), profondeur maximale (`max_depth` : 3, 5, 10), critères de division des nœuds (`min_samples_split`, `min_samples_leaf`) et nombre de variables par split (`max_features`).  \n",
    "- **Gradient Boosting** : taux d'apprentissage (`learning_rate` : 0.01, 0.1, 0.2), nombre d'itérations (`n_estimators`), et paramètres de complexité de l’arbre (`max_depth`, `min_samples_split`, `min_samples_leaf`).  \n",
    "\n",
    "La sélection a été guidée par l’indice de concordance (*C-index*), mesurant la capacité du modèle à prédire correctement l’ordre des événements (décès). Une validation croisée en *5 folds* a été appliquée pour chaque combinaison d’hyperparamètres, garantissant une évaluation robuste et évitant le surajustement. Les configurations optimales retenues ont été celles maximisant le *C-index* sur les données d’entraînement. Cette méthodologie rigoureuse a permis de comparer équitablement les deux approches et de garantir leur fiabilité pour les analyses de survie ultérieures.  "
   ]
  },
  {
   "cell_type": "code",
   "execution_count": null,
   "metadata": {
    "id": "Y_Iej0G6dqpZ"
   },
   "outputs": [],
   "source": [
    "from sksurv.ensemble import RandomSurvivalForest\n",
    "from sksurv.ensemble import GradientBoostingSurvivalAnalysis\n",
    "tab_params = {\n",
    "    'random_survival_forest': {\n",
    "        'model': RandomSurvivalForest(random_state=42),\n",
    "        'params': {\n",
    "            'n_estimators': [50, 100, 200],\n",
    "            'max_depth': [3, 5, 10],\n",
    "            'min_samples_split': [2, 5, 10],\n",
    "            'min_samples_leaf': [1, 2, 5],\n",
    "            'max_features': [\"sqrt\", 0.5, 1.0]  # Utilisez 'sqrt' pour les forêts aléatoires\n",
    "        }\n",
    "    },\n",
    "    'gradient_boosting_survival': {\n",
    "        'model': GradientBoostingSurvivalAnalysis(random_state=42),\n",
    "        'params': {\n",
    "            'learning_rate': [0.01, 0.1, 0.2],\n",
    "            'n_estimators': [50, 100, 200],\n",
    "            'max_depth': [3, 5, 10],\n",
    "            'min_samples_split': [2, 5, 10],\n",
    "            'min_samples_leaf': [1, 2, 5]\n",
    "        }\n",
    "    }\n",
    "}"
   ]
  },
  {
   "cell_type": "code",
   "execution_count": null,
   "metadata": {
    "id": "OixBiF11dqsB"
   },
   "outputs": [],
   "source": [
    "from sklearn.model_selection import ParameterGrid\n",
    "from sksurv.metrics import concordance_index_censored\n",
    "\n",
    "def custom_grid_search_cv(model, param_grid, X_train, y_train, cv=5):\n",
    "    best_score = -np.inf\n",
    "    best_params = None\n",
    "    for params in ParameterGrid(param_grid):\n",
    "        model.set_params(**params)\n",
    "        scores = []\n",
    "        # Validation croisée manuelle\n",
    "        for train_idx, val_idx in KFold(n_splits=cv).split(X_train):\n",
    "            X_tr, X_val = X_train.iloc[train_idx], X_train.iloc[val_idx]\n",
    "            y_tr, y_val = y_train[train_idx], y_train[val_idx]\n",
    "            model.fit(X_tr, y_tr)\n",
    "            ci = concordance_index_censored(y_val[\"event\"], y_val[\"time\"], model.predict(X_val))[0]\n",
    "            scores.append(ci)\n",
    "        mean_score = np.mean(scores)\n",
    "        if mean_score > best_score:\n",
    "            best_score = mean_score\n",
    "            best_params = params\n",
    "    return best_params, best_score"
   ]
  },
  {
   "cell_type": "code",
   "execution_count": null,
   "metadata": {
    "id": "IBbm2UeidquE"
   },
   "outputs": [],
   "source": [
    "from sklearn.model_selection import KFold\n",
    "\n",
    "results = []\n",
    "for model_name, mp in tab_params.items():\n",
    "    best_params, best_score = custom_grid_search_cv(mp['model'], mp['params'], X_train, y_train)\n",
    "    results.append({\n",
    "        'model': model_name,\n",
    "        'best_score': best_score,\n",
    "        'best_params': best_params\n",
    "    })\n",
    "\n",
    "results_df = pd.DataFrame(results)\n",
    "results_df"
   ]
  },
  {
   "cell_type": "markdown",
   "metadata": {
    "id": "1qUXaMk4df80"
   },
   "source": [
    "Les résultats obtenus avec la méthode **RandomizedSearchCV** ont permis de trouver les meilleurs paramètres pour deux modèles de prédiction de survie : **Random Survival Forest** et **Gradient Boosting Survival Analysis**.  \n",
    "\n",
    "\n",
    "Pour le **Random Survival Forest**, les paramètres sélectionnés indiquent que l'algorithme a utilisé **50 arbres**, chacun ayant une profondeur maximale de **10 niveaux**. À chaque division d’un arbre, **seulement 50 % des variables** ont été prises en compte, ce qui a aidé à éviter le surapprentissage. De plus, un minimum de **10 observations** était nécessaire pour qu'un nœud se divise, et chaque feuille contenait au moins **une observation**.  \n",
    "\n",
    "Concernant le **Gradient Boosting Survival Analysis**, l’algorithme a utilisé **100 arbres** avec une profondeur maximale de **5 niveaux**. Le taux d'apprentissage a été fixé à **0.1**, ce qui signifie que le modèle s'est ajusté progressivement pour éviter d’apprendre trop vite et risquer de perdre en précision. Comme pour le premier modèle, il fallait **au moins une observation par feuille** et **10 observations pour qu’un nœud se divise**.  \n",
    "\n",
    "Ces réglages ont permis d’optimiser la performance des modèles pour mieux prédire le temps de survie des individus en fonction des données disponibles."
   ]
  },
  {
   "cell_type": "code",
   "execution_count": null,
   "metadata": {
    "id": "0VSO7IjKdqwZ"
   },
   "outputs": [],
   "source": [
    "results_df.loc[0,\"best_params\"]"
   ]
  },
  {
   "cell_type": "code",
   "execution_count": 16,
   "metadata": {
    "colab": {
     "base_uri": "https://localhost:8080/"
    },
    "id": "DBkWWIJQdqyt",
    "outputId": "e8ea7590-1132-49a8-d94f-952cf40759d8"
   },
   "outputs": [
    {
     "name": "stdout",
     "output_type": "stream",
     "text": [
      "training data c-index: 0.932293\n",
      "testing data c-index: 0.851625\n"
     ]
    }
   ],
   "source": [
    "from sksurv.ensemble import RandomSurvivalForest\n",
    "from sksurv.metrics import concordance_index_censored\n",
    "from sklearn.inspection import permutation_importance\n",
    "\n",
    "# Séparer les variables explicatives et la cible\n",
    "X = df.drop([\"Deces\", \"Tempsdesuivi (Mois)\"], axis=1)\n",
    "\n",
    "# Assurez-vous que y est bien structuré\n",
    "y = np.array(list(zip(df[\"Deces\"].astype(bool), df[\"Tempsdesuivi (Mois)\"])),\n",
    "             dtype=[(\"event\", \"?\"), (\"time\", \"<f8\")])\n",
    "\n",
    "# Division des données en ensemble d'entraînement et de test\n",
    "X_train, X_test, y_train, y_test = train_test_split(X, y, test_size=0.2, random_state=42)\n",
    "\n",
    "# fit a Random Surival Forest model with all metabolites\n",
    "rsf = RandomSurvivalForest(n_estimators = 200,\n",
    "                          min_samples_split = 2,\n",
    "                          min_samples_leaf = 1,\n",
    "                          max_features = 1.0,\n",
    "                           max_depth = 10\n",
    "                          )\n",
    "rsf.fit(X_train,y_train)\n",
    "\n",
    "# using all metabolites as feature,and get a concordance index of 0.660458 in testing data\n",
    "print('training data c-index: %f' % rsf.score(X_train,y_train))\n",
    "print('testing data c-index: %f' % rsf.score(X_test,y_test))\n"
   ]
  },
  {
   "cell_type": "code",
   "execution_count": 17,
   "metadata": {
    "colab": {
     "base_uri": "https://localhost:8080/"
    },
    "id": "MDprOIKsd_uO",
    "outputId": "00a849be-ae6a-4f6e-ded8-ecc612a8eef7"
   },
   "outputs": [
    {
     "name": "stdout",
     "output_type": "stream",
     "text": [
      "                Metric Value\n",
      "0  Brier Score intégré  0.08\n",
      "1              C-Index  0.85\n"
     ]
    }
   ],
   "source": [
    "from sksurv.ensemble import RandomSurvivalForest\n",
    "from sksurv.metrics import concordance_index_censored, integrated_brier_score\n",
    "from sklearn.model_selection import train_test_split\n",
    "\n",
    "# Calcul des métriques\n",
    "# Concordance Index\n",
    "c_index = concordance_index_censored(\n",
    "    y_test[\"event\"], y_test[\"time\"], rsf.predict(X_test)\n",
    ")[0]\n",
    "\n",
    "# Brier Score intégré\n",
    "# Limiter les points temporels à l'intervalle de suivi des données de test (exclure les bords)\n",
    "min_time = y_test[\"time\"].min() + 1e-8  # Légèrement au-dessus du min\n",
    "max_time = y_test[\"time\"].max() - 1e-8  # Légèrement en-dessous du max\n",
    "time_points = np.linspace(min_time, max_time, 100)\n",
    "\n",
    "# Extraction des prédictions de survie\n",
    "survival_predictions = rsf.predict_survival_function(X_test)\n",
    "\n",
    "# Convertir les prédictions en tableau 2D (probabilités à chaque point de temps)\n",
    "survival_probabilities = np.asarray(\n",
    "    [[fn(t) for t in time_points] for fn in survival_predictions]\n",
    ")\n",
    "\n",
    "# Calcul du Brier score intégré\n",
    "brier_score_value = integrated_brier_score(y_train, y_test, survival_probabilities, time_points)\n",
    "\n",
    "# Création d'un tableau des métriques avec 2 décimales\n",
    "metrics_table = pd.DataFrame({\n",
    "    \"Metric\": [\"Brier Score intégré\", \"C-Index\"],\n",
    "    \"Value\": [f\"{brier_score_value:.2f}\", f\"{c_index:.2f}\"]\n",
    "})\n",
    "\n",
    "print(metrics_table)"
   ]
  },
  {
   "cell_type": "code",
   "execution_count": 18,
   "metadata": {
    "colab": {
     "base_uri": "https://localhost:8080/"
    },
    "id": "mPDbS30F6NYG",
    "outputId": "15ee3d7a-4980-467f-bc78-818e2b63ac58"
   },
   "outputs": [
    {
     "name": "stdout",
     "output_type": "stream",
     "text": [
      "                Feature  Importance\n",
      "5           Denitrution    0.056615\n",
      "11          Adenopathie    0.056082\n",
      "10           Metastases    0.052406\n",
      "8            Infiltrant    0.051501\n",
      "6                 Tabac    0.038785\n",
      "2       Ulceregastrique    0.025306\n",
      "1          Cardiopathie    0.012911\n",
      "4   Ulcero-bourgeonnant    0.010620\n",
      "0                   AGE    0.008542\n",
      "9             Stenosant    0.008258\n",
      "7              Mucineux   -0.000107\n",
      "3   Douleurepigastrique   -0.003285\n"
     ]
    }
   ],
   "source": [
    "# Calcul de l'importance des variables par permutation\n",
    "from sklearn.inspection import permutation_importance\n",
    "\n",
    "perm = permutation_importance(rsf, X_test, y_test, n_repeats=15, random_state=42)\n",
    "\n",
    "# Affichage des résultats\n",
    "import pandas as pd\n",
    "feature_importance = pd.DataFrame(\n",
    "    {\"Feature\": X_train.columns, \"Importance\": perm.importances_mean}\n",
    ").sort_values(by=\"Importance\", ascending=False)\n",
    "\n",
    "print(feature_importance)\n"
   ]
  },
  {
   "cell_type": "code",
   "execution_count": 20,
   "metadata": {
    "colab": {
     "base_uri": "https://localhost:8080/"
    },
    "id": "VpMVbPY87OVb",
    "outputId": "7a1a19a5-c4f2-483b-9112-a38b36b3e487"
   },
   "outputs": [
    {
     "name": "stdout",
     "output_type": "stream",
     "text": [
      "                Feature    Weight       std\n",
      "5           Denitrution  0.056615  0.009005\n",
      "11          Adenopathie  0.056082  0.028088\n",
      "10           Metastases  0.052406  0.019262\n",
      "8            Infiltrant  0.051501  0.017898\n",
      "6                 Tabac  0.038785  0.017275\n",
      "2       Ulceregastrique  0.025306  0.010141\n",
      "1          Cardiopathie  0.012911  0.009756\n",
      "4   Ulcero-bourgeonnant  0.010620  0.005837\n",
      "0                   AGE  0.008542  0.005500\n",
      "9             Stenosant  0.008258  0.005971\n",
      "7              Mucineux -0.000107  0.002671\n",
      "3   Douleurepigastrique -0.003285  0.007882\n"
     ]
    }
   ],
   "source": [
    "from sklearn.inspection import permutation_importance\n",
    "import pandas as pd\n",
    "\n",
    "# Calcul de l'importance des variables par permutation\n",
    "perm = permutation_importance(rsf, X_test, y_test, n_repeats=15, random_state=42)\n",
    "\n",
    "# Création du DataFrame avec les importances et l'écart-type\n",
    "feature_importances = pd.DataFrame({\n",
    "    \"Feature\": X_train.columns,\n",
    "    \"Weight\": perm.importances_mean,\n",
    "    \"std\": perm.importances_std\n",
    "})\n",
    "\n",
    "# Trier par importance décroissante\n",
    "feature_importances.sort_values(by=\"Weight\", ascending=False, inplace=True)\n",
    "\n",
    "# Affichage des résultats\n",
    "print(feature_importances)\n"
   ]
  },
  {
   "cell_type": "code",
   "execution_count": 21,
   "metadata": {
    "colab": {
     "base_uri": "https://localhost:8080/",
     "height": 607
    },
    "id": "8TgzJ-Au7014",
    "outputId": "bd1045e7-1356-4ced-8109-a69e1d211f82"
   },
   "outputs": [
    {
     "data": {
      "image/png": "[encoded data removed]",
      "text/plain": [
       "<Figure size 1200x600 with 1 Axes>"
      ]
     },
     "metadata": {},
     "output_type": "display_data"
    }
   ],
   "source": [
    "import matplotlib.pyplot as plt\n",
    "import numpy as np\n",
    "\n",
    "# Vérifier que feature_importances contient les bonnes colonnes\n",
    "if \"Feature\" not in feature_importances.columns:\n",
    "    raise ValueError(\"Le DataFrame feature_importances doit contenir une colonne 'Feature'.\")\n",
    "\n",
    "# Séparer les features positives et négatives\n",
    "positive_features = feature_importances[feature_importances[\"Weight\"] > 0]\n",
    "negative_features = feature_importances[feature_importances[\"Weight\"] <= 0]\n",
    "\n",
    "# Créer la figure\n",
    "plt.figure(figsize=(12, 6))\n",
    "\n",
    "# Plot des features positives (barres bleues)\n",
    "plt.barh(\n",
    "    positive_features[\"Feature\"],\n",
    "    positive_features[\"Weight\"],\n",
    "    color=\"blue\",\n",
    "    alpha=0.7,\n",
    "    label=\"Positives\"\n",
    ")\n",
    "for i, (feature, weight, std) in enumerate(zip(positive_features[\"Feature\"], positive_features[\"Weight\"], positive_features[\"std\"])):\n",
    "    plt.errorbar(weight, i, xerr=std, fmt='none', ecolor=\"blue\", capsize=4, capthick=1)\n",
    "    plt.text(weight + std + 0.0001, i, f\"{weight:.3f}\", va=\"center\", ha=\"left\", color=\"black\", fontsize=9)\n",
    "\n",
    "# Plot des features négatives (barres rouges)\n",
    "plt.barh(\n",
    "    negative_features[\"Feature\"],\n",
    "    negative_features[\"Weight\"],\n",
    "    color=\"red\",\n",
    "    alpha=0.7,\n",
    "    label=\"Negatives\"\n",
    ")\n",
    "for i, (feature, weight, std) in enumerate(zip(negative_features[\"Feature\"], negative_features[\"Weight\"], negative_features[\"std\"])):\n",
    "    index_offset = i + len(positive_features)\n",
    "    plt.errorbar(weight, index_offset, xerr=std, fmt='none', ecolor=\"red\", capsize=4, capthick=1)\n",
    "    plt.text(weight - std - 0.0001, index_offset, f\"{weight:.3f}\", va=\"center\", ha=\"right\", color=\"black\", fontsize=9)\n",
    "\n",
    "# Formatage du graphique\n",
    "plt.axvline(0, color=\"black\", linewidth=0.8, linestyle=\"--\")\n",
    "plt.title(\"Feature Importances: Positives (Right) vs. Negatives (Left)\", fontsize=14)\n",
    "plt.xlabel(\"Weight\", fontsize=12)\n",
    "plt.ylabel(\"Features\", fontsize=12)\n",
    "plt.legend()\n",
    "plt.tight_layout()\n",
    "plt.gca().invert_yaxis()\n",
    "plt.show()\n"
   ]
  },
  {
   "cell_type": "code",
   "execution_count": 22,
   "metadata": {
    "colab": {
     "base_uri": "https://localhost:8080/",
     "height": 790
    },
    "id": "0AECmAUodq2D",
    "outputId": "2ef17957-1705-484a-da8e-6b3d32edad23"
   },
   "outputs": [
    {
     "name": "stdout",
     "output_type": "stream",
     "text": [
      "                Feature  Importance   Std Dev\n",
      "11          Adenopathie    0.056313  0.032890\n",
      "5           Denitrution    0.054582  0.005926\n",
      "10           Metastases    0.049547  0.013534\n",
      "8            Infiltrant    0.046324  0.011986\n",
      "6                 Tabac    0.034417  0.016246\n",
      "2       Ulceregastrique    0.023628  0.007567\n",
      "4   Ulcero-bourgeonnant    0.011028  0.003674\n",
      "1          Cardiopathie    0.010256  0.008637\n",
      "0                   AGE    0.007619  0.005942\n",
      "9             Stenosant    0.007539  0.006343\n",
      "7              Mucineux    0.000959  0.002519\n",
      "3   Douleurepigastrique   -0.002264  0.007348\n"
     ]
    },
    {
     "data": {
      "image/png": "[encoded data removed]",
      "text/plain": [
       "<Figure size 1000x600 with 1 Axes>"
      ]
     },
     "metadata": {},
     "output_type": "display_data"
    }
   ],
   "source": [
    "from sklearn.inspection import permutation_importance\n",
    "\n",
    "# Appliquer l'importance par permutation\n",
    "result = permutation_importance(\n",
    "    rsf, X_test, y_test,\n",
    "    n_repeats=10, random_state=42\n",
    ")\n",
    "\n",
    "# Créer un DataFrame pour organiser les résultats\n",
    "importance_df = pd.DataFrame({\n",
    "    \"Feature\": X_test.columns,\n",
    "    \"Importance\": result.importances_mean,\n",
    "    \"Std Dev\": result.importances_std\n",
    "}).sort_values(by=\"Importance\", ascending=False)\n",
    "\n",
    "print(importance_df)\n",
    "\n",
    "# Préparer les couleurs : rouge pour les valeurs négatives, bleu pour les positives\n",
    "colors = [\"blue\" if val > 0 else \"red\" for val in importance_df[\"Importance\"]]\n",
    "\n",
    "# Visualiser les résultats\n",
    "plt.figure(figsize=(10, 6))\n",
    "bars = plt.barh(\n",
    "    importance_df[\"Feature\"],\n",
    "    importance_df[\"Importance\"],\n",
    "    color=colors,\n",
    "    edgecolor=\"black\"\n",
    ")\n",
    "plt.gca().invert_yaxis()  # Inverser l'axe pour que la plus importante soit en haut\n",
    "plt.xlabel(\"Importance moyenne (Permutation)\")\n",
    "plt.title(\"Importance des variables par permutation\")\n",
    "\n",
    "# Ajouter les étiquettes sur les pics des barres\n",
    "for bar in bars:\n",
    "    width = bar.get_width()  # Longueur de la barre\n",
    "    label_x_pos = width + 0.0001 if width > 0 else width - 0.0001  # Position de l'étiquette\n",
    "    plt.text(\n",
    "        label_x_pos, bar.get_y() + bar.get_height() / 2,\n",
    "        f\"{width:.3f}\",  # Afficher la valeur avec deux décimales\n",
    "        va=\"center\", ha=\"left\" if width > 0 else \"right\",\n",
    "        color=\"black\", fontsize=10\n",
    "    )\n",
    "\n",
    "plt.show()\n"
   ]
  },
  {
   "cell_type": "code",
   "execution_count": 42,
   "metadata": {
    "colab": {
     "base_uri": "https://localhost:8080/"
    },
    "id": "Rz61WKIAeRbH",
    "outputId": "2b96dace-5452-4554-932d-d3e9343b706d"
   },
   "outputs": [
    {
     "name": "stdout",
     "output_type": "stream",
     "text": [
      "training data c-index: 0.869688\n",
      "testing data c-index: 0.854289\n"
     ]
    }
   ],
   "source": [
    "from sksurv.ensemble import RandomSurvivalForest\n",
    "from sksurv.metrics import concordance_index_censored\n",
    "from sklearn.inspection import permutation_importance\n",
    "\n",
    "vars = [\"Tabac\",\"Metastases\",\"Infiltrant\",\"Adenopathie\",\"Ulcero-bourgeonnant\",\n",
    "        \"Ulceregastrique\",\"Stenosant\",\"Denitrution\",\"Deces\",\"Tempsdesuivi (Mois)\"]\n",
    "\n",
    "df=df[vars]\n",
    "\n",
    "# Séparer les variables explicatives et la cible\n",
    "X = df.drop([\"Deces\", \"Tempsdesuivi (Mois)\"], axis=1)\n",
    "\n",
    "# Assurez-vous que y est bien structuré\n",
    "y = np.array(list(zip(df[\"Deces\"].astype(bool), df[\"Tempsdesuivi (Mois)\"])),\n",
    "             dtype=[(\"event\", \"?\"), (\"time\", \"<f8\")])\n",
    "\n",
    "# Division des données en ensemble d'entraînement et de test\n",
    "X_train, X_test, y_train, y_test = train_test_split(X, y, test_size=0.2, random_state=42)\n",
    "\n",
    "# fit a Random Surival Forest model with all metabolites\n",
    "rsf = RandomSurvivalForest(n_estimators = 50,\n",
    "                          min_samples_split = 5,\n",
    "                          min_samples_leaf = 1,\n",
    "                          max_features = 1,\n",
    "                           max_depth = 10\n",
    "                          )\n",
    "rsf.fit(X_train,y_train)\n",
    "\n",
    "# using all metabolites as feature,and get a concordance index of 0.660458 in testing data\n",
    "print('training data c-index: %f' % rsf.score(X_train,y_train))\n",
    "print('testing data c-index: %f' % rsf.score(X_test,y_test))"
   ]
  },
  {
   "cell_type": "code",
   "execution_count": 43,
   "metadata": {
    "colab": {
     "base_uri": "https://localhost:8080/"
    },
    "id": "Vn4NeKOdeRde",
    "outputId": "da7348ba-9b33-4e94-d89f-1c213a3eac72"
   },
   "outputs": [
    {
     "name": "stdout",
     "output_type": "stream",
     "text": [
      "Training data C-index: 0.87\n",
      "Testing data C-index: 0.86\n",
      "Bootstrap C-index intervalle (95% IC): [0.81, 0.90]\n",
      "Bootstrap C-index moyenne: 0.86\n"
     ]
    }
   ],
   "source": [
    "import numpy as np\n",
    "from sklearn.model_selection import train_test_split\n",
    "from sksurv.ensemble import RandomSurvivalForest\n",
    "from sksurv.metrics import concordance_index_censored\n",
    "from sklearn.utils import resample\n",
    "\n",
    "# Variables\n",
    "vars = [\"Tabac\", \"Metastases\", \"Infiltrant\", \"Adenopathie\", \"Ulcero-bourgeonnant\",\"Ulceregastrique\", \"Stenosant\", \"Denitrution\", \"Deces\", \"Tempsdesuivi (Mois)\"]\n",
    "\n",
    "df = df[vars]\n",
    "\n",
    "# Séparer les variables explicatives et la cible\n",
    "X = df.drop([\"Deces\", \"Tempsdesuivi (Mois)\"], axis=1)\n",
    "\n",
    "# Assurez-vous que y est bien structuré\n",
    "y = np.array(list(zip(df[\"Deces\"].astype(bool), df[\"Tempsdesuivi (Mois)\"])),\n",
    "             dtype=[(\"event\", \"?\"), (\"time\", \"<f8\")])\n",
    "\n",
    "# Division des données en ensemble d'entraînement et de test\n",
    "X_train, X_test, y_train, y_test = train_test_split(X, y, test_size=0.2, random_state=42)\n",
    "\n",
    "# Ajustement du modèle Random Survival Forest\n",
    "rsf = RandomSurvivalForest(\n",
    "    n_estimators=50,\n",
    "    min_samples_split=5,\n",
    "    min_samples_leaf=1,\n",
    "    max_features=1,\n",
    "    max_depth=10,\n",
    "    random_state=42\n",
    ")\n",
    "rsf.fit(X_train, y_train)\n",
    "\n",
    "# Calcul des C-index\n",
    "c_index_train = rsf.score(X_train, y_train)\n",
    "c_index_test = rsf.score(X_test, y_test)\n",
    "\n",
    "print(f'Training data C-index: {c_index_train:.2f}')\n",
    "print(f'Testing data C-index: {c_index_test:.2f}')\n",
    "\n",
    "# Bootstrap pour intervalle de confiance du C-index\n",
    "n_bootstraps = 1000\n",
    "random_state = 42\n",
    "bootstrap_c_indexes = []\n",
    "\n",
    "np.random.seed(random_state)\n",
    "for _ in range(n_bootstraps):\n",
    "    X_test_sample, y_test_sample = resample(X_test, y_test)\n",
    "    c_index = rsf.score(X_test_sample, y_test_sample)\n",
    "    bootstrap_c_indexes.append(c_index)\n",
    "\n",
    "# Calcul de l'intervalle de confiance\n",
    "alpha = 0.95\n",
    "lower_bound = np.percentile(bootstrap_c_indexes, (1 - alpha) / 2 * 100)\n",
    "upper_bound = np.percentile(bootstrap_c_indexes, (1 + alpha) / 2 * 100)\n",
    "mean_c_index = np.mean(bootstrap_c_indexes)\n",
    "\n",
    "print(f\"Bootstrap C-index intervalle ({alpha*100:.0f}% IC): [{lower_bound:.2f}, {upper_bound:.2f}]\")\n",
    "print(f\"Bootstrap C-index moyenne: {mean_c_index:.2f}\")\n"
   ]
  },
  {
   "cell_type": "markdown",
   "metadata": {
    "id": "NmnoGbjX0VMl"
   },
   "source": [
    "#### **Reoptimisation des hyperparametres**"
   ]
  },
  {
   "cell_type": "code",
   "execution_count": 44,
   "metadata": {
    "id": "btf6mkdl0SLc"
   },
   "outputs": [],
   "source": [
    "from sksurv.ensemble import RandomSurvivalForest\n",
    "from sklearn.model_selection import KFold\n",
    "from sksurv.ensemble import GradientBoostingSurvivalAnalysis\n",
    "tab_params = {\n",
    "    'random_survival_forest': {\n",
    "        'model': RandomSurvivalForest(random_state=42),\n",
    "        'params': {\n",
    "            'n_estimators': [50, 100, 200],\n",
    "            'max_depth': [3, 5, 10],\n",
    "            'min_samples_split': [2, 5, 10],\n",
    "            'min_samples_leaf': [1, 2, 5],\n",
    "            'max_features': [\"sqrt\", 0.5, 1.0]  # Utilisez 'sqrt' pour les forêts aléatoires\n",
    "        }\n",
    "    },\n",
    "    'gradient_boosting_survival': {\n",
    "        'model': GradientBoostingSurvivalAnalysis(random_state=42),\n",
    "        'params': {\n",
    "            'learning_rate': [0.01, 0.1, 0.2],\n",
    "            'n_estimators': [50, 100, 200],\n",
    "            'max_depth': [3, 5, 10],\n",
    "            'min_samples_split': [2, 5, 10],\n",
    "            'min_samples_leaf': [1, 2, 5]\n",
    "        }\n",
    "    }\n",
    "}"
   ]
  },
  {
   "cell_type": "code",
   "execution_count": 45,
   "metadata": {
    "id": "cU10iNg009ka"
   },
   "outputs": [],
   "source": [
    "from sklearn.model_selection import ParameterGrid\n",
    "from sksurv.metrics import concordance_index_censored\n",
    "\n",
    "def custom_grid_search_cv(model, param_grid, X_train, y_train, cv=5):\n",
    "    best_score = -np.inf\n",
    "    best_params = None\n",
    "    for params in ParameterGrid(param_grid):\n",
    "        model.set_params(**params)\n",
    "        scores = []\n",
    "        # Validation croisée manuelle\n",
    "        for train_idx, val_idx in KFold(n_splits=cv).split(X_train):\n",
    "            X_tr, X_val = X_train.iloc[train_idx], X_train.iloc[val_idx]\n",
    "            y_tr, y_val = y_train[train_idx], y_train[val_idx]\n",
    "            model.fit(X_tr, y_tr)\n",
    "            ci = concordance_index_censored(y_val[\"event\"], y_val[\"time\"], model.predict(X_val))[0]\n",
    "            scores.append(ci)\n",
    "        mean_score = np.mean(scores)\n",
    "        if mean_score > best_score:\n",
    "            best_score = mean_score\n",
    "            best_params = params\n",
    "    return best_params, best_score"
   ]
  },
  {
   "cell_type": "code",
   "execution_count": 47,
   "metadata": {
    "colab": {
     "base_uri": "https://localhost:8080/",
     "height": 182
    },
    "id": "JOodp-ny09n4",
    "outputId": "69b167c2-c27e-49c3-da54-8c5fc55fd6fd"
   },
   "outputs": [
    {
     "data": {
      "application/vnd.google.colaboratory.intrinsic+json": {
       "summary": "{\n  \"name\": \"results_df\",\n  \"rows\": 2,\n  \"fields\": [\n    {\n      \"column\": \"model\",\n      \"properties\": {\n        \"dtype\": \"string\",\n        \"num_unique_values\": 2,\n        \"samples\": [\n          \"gradient_boosting_survival\",\n          \"random_survival_forest\"\n        ],\n        \"semantic_type\": \"\",\n        \"description\": \"\"\n      }\n    },\n    {\n      \"column\": \"best_score\",\n      \"properties\": {\n        \"dtype\": \"number\",\n        \"std\": 0.0043808746267619625,\n        \"min\": 0.8447410239384077,\n        \"max\": 0.8509365162506306,\n        \"num_unique_values\": 2,\n        \"samples\": [\n          0.8509365162506306,\n          0.8447410239384077\n        ],\n        \"semantic_type\": \"\",\n        \"description\": \"\"\n      }\n    },\n    {\n      \"column\": \"best_params\",\n      \"properties\": {\n        \"dtype\": \"object\",\n        \"semantic_type\": \"\",\n        \"description\": \"\"\n      }\n    }\n  ]\n}",
       "type": "dataframe",
       "variable_name": "results_df"
      },
      "text/html": [
       "\n",
       "  <div id=\"df-03834373-cb2e-4f55-982f-64173519e1f1\" class=\"colab-df-container\">\n",
       "    <div>\n",
       "<style scoped>\n",
       "    .dataframe tbody tr th:only-of-type {\n",
       "        vertical-align: middle;\n",
       "    }\n",
       "\n",
       "    .dataframe tbody tr th {\n",
       "        vertical-align: top;\n",
       "    }\n",
       "\n",
       "    .dataframe thead th {\n",
       "        text-align: right;\n",
       "    }\n",
       "</style>\n",
       "<table border=\"1\" class=\"dataframe\">\n",
       "  <thead>\n",
       "    <tr style=\"text-align: right;\">\n",
       "      <th></th>\n",
       "      <th>model</th>\n",
       "      <th>best_score</th>\n",
       "      <th>best_params</th>\n",
       "    </tr>\n",
       "  </thead>\n",
       "  <tbody>\n",
       "    <tr>\n",
       "      <th>0</th>\n",
       "      <td>random_survival_forest</td>\n",
       "      <td>0.844741</td>\n",
       "      <td>{'max_depth': 10, 'max_features': 0.5, 'min_sa...</td>\n",
       "    </tr>\n",
       "    <tr>\n",
       "      <th>1</th>\n",
       "      <td>gradient_boosting_survival</td>\n",
       "      <td>0.850937</td>\n",
       "      <td>{'learning_rate': 0.1, 'max_depth': 5, 'min_sa...</td>\n",
       "    </tr>\n",
       "  </tbody>\n",
       "</table>\n",
       "</div>\n",
       "    <div class=\"colab-df-buttons\">\n",
       "\n",
       "  <div class=\"colab-df-container\">\n",
       "    <button class=\"colab-df-convert\" onclick=\"convertToInteractive('df-03834373-cb2e-4f55-982f-64173519e1f1')\"\n",
       "            title=\"Convert this dataframe to an interactive table.\"\n",
       "            style=\"display:none;\">\n",
       "\n",
       "  <svg xmlns=\"http://www.w3.org/2000/svg\" height=\"24px\" viewBox=\"0 -960 960 960\">\n",
       "    <path d=\"M120-120v-720h720v720H120Zm60-500h600v-160H180v160Zm220 220h160v-160H400v160Zm0 220h160v-160H400v160ZM180-400h160v-160H180v160Zm440 0h160v-160H620v160ZM180-180h160v-160H180v160Zm440 0h160v-160H620v160Z\"/>\n",
       "  </svg>\n",
       "    </button>\n",
       "\n",
       "  <style>\n",
       "    .colab-df-container {\n",
       "      display:flex;\n",
       "      gap: 12px;\n",
       "    }\n",
       "\n",
       "    .colab-df-convert {\n",
       "      background-color: #E8F0FE;\n",
       "      border: none;\n",
       "      border-radius: 50%;\n",
       "      cursor: pointer;\n",
       "      display: none;\n",
       "      fill: #1967D2;\n",
       "      height: 32px;\n",
       "      padding: 0 0 0 0;\n",
       "      width: 32px;\n",
       "    }\n",
       "\n",
       "    .colab-df-convert:hover {\n",
       "      background-color: #E2EBFA;\n",
       "      box-shadow: 0px 1px 2px rgba(60, 64, 67, 0.3), 0px 1px 3px 1px rgba(60, 64, 67, 0.15);\n",
       "      fill: #174EA6;\n",
       "    }\n",
       "\n",
       "    .colab-df-buttons div {\n",
       "      margin-bottom: 4px;\n",
       "    }\n",
       "\n",
       "    [theme=dark] .colab-df-convert {\n",
       "      background-color: #3B4455;\n",
       "      fill: #D2E3FC;\n",
       "    }\n",
       "\n",
       "    [theme=dark] .colab-df-convert:hover {\n",
       "      background-color: #434B5C;\n",
       "      box-shadow: 0px 1px 3px 1px rgba(0, 0, 0, 0.15);\n",
       "      filter: drop-shadow(0px 1px 2px rgba(0, 0, 0, 0.3));\n",
       "      fill: #FFFFFF;\n",
       "    }\n",
       "  </style>\n",
       "\n",
       "    <script>\n",
       "      const buttonEl =\n",
       "        document.querySelector('#df-03834373-cb2e-4f55-982f-64173519e1f1 button.colab-df-convert');\n",
       "      buttonEl.style.display =\n",
       "        google.colab.kernel.accessAllowed ? 'block' : 'none';\n",
       "\n",
       "      async function convertToInteractive(key) {\n",
       "        const element = document.querySelector('#df-03834373-cb2e-4f55-982f-64173519e1f1');\n",
       "        const dataTable =\n",
       "          await google.colab.kernel.invokeFunction('convertToInteractive',\n",
       "                                                    [key], {});\n",
       "        if (!dataTable) return;\n",
       "\n",
       "        const docLinkHtml = 'Like what you see? Visit the ' +\n",
       "          '<a target=\"_blank\" href=https://colab.research.google.com/notebooks/data_table.ipynb>data table notebook</a>'\n",
       "          + ' to learn more about interactive tables.';\n",
       "        element.innerHTML = '';\n",
       "        dataTable['output_type'] = 'display_data';\n",
       "        await google.colab.output.renderOutput(dataTable, element);\n",
       "        const docLink = document.createElement('div');\n",
       "        docLink.innerHTML = docLinkHtml;\n",
       "        element.appendChild(docLink);\n",
       "      }\n",
       "    </script>\n",
       "  </div>\n",
       "\n",
       "\n",
       "<div id=\"df-a49f7f32-cb99-44d9-960c-2a2c1b61adcb\">\n",
       "  <button class=\"colab-df-quickchart\" onclick=\"quickchart('df-a49f7f32-cb99-44d9-960c-2a2c1b61adcb')\"\n",
       "            title=\"Suggest charts\"\n",
       "            style=\"display:none;\">\n",
       "\n",
       "<svg xmlns=\"http://www.w3.org/2000/svg\" height=\"24px\"viewBox=\"0 0 24 24\"\n",
       "     width=\"24px\">\n",
       "    <g>\n",
       "        <path d=\"M19 3H5c-1.1 0-2 .9-2 2v14c0 1.1.9 2 2 2h14c1.1 0 2-.9 2-2V5c0-1.1-.9-2-2-2zM9 17H7v-7h2v7zm4 0h-2V7h2v10zm4 0h-2v-4h2v4z\"/>\n",
       "    </g>\n",
       "</svg>\n",
       "  </button>\n",
       "\n",
       "<style>\n",
       "  .colab-df-quickchart {\n",
       "      --bg-color: #E8F0FE;\n",
       "      --fill-color: #1967D2;\n",
       "      --hover-bg-color: #E2EBFA;\n",
       "      --hover-fill-color: #174EA6;\n",
       "      --disabled-fill-color: #AAA;\n",
       "      --disabled-bg-color: #DDD;\n",
       "  }\n",
       "\n",
       "  [theme=dark] .colab-df-quickchart {\n",
       "      --bg-color: #3B4455;\n",
       "      --fill-color: #D2E3FC;\n",
       "      --hover-bg-color: #434B5C;\n",
       "      --hover-fill-color: #FFFFFF;\n",
       "      --disabled-bg-color: #3B4455;\n",
       "      --disabled-fill-color: #666;\n",
       "  }\n",
       "\n",
       "  .colab-df-quickchart {\n",
       "    background-color: var(--bg-color);\n",
       "    border: none;\n",
       "    border-radius: 50%;\n",
       "    cursor: pointer;\n",
       "    display: none;\n",
       "    fill: var(--fill-color);\n",
       "    height: 32px;\n",
       "    padding: 0;\n",
       "    width: 32px;\n",
       "  }\n",
       "\n",
       "  .colab-df-quickchart:hover {\n",
       "    background-color: var(--hover-bg-color);\n",
       "    box-shadow: 0 1px 2px rgba(60, 64, 67, 0.3), 0 1px 3px 1px rgba(60, 64, 67, 0.15);\n",
       "    fill: var(--button-hover-fill-color);\n",
       "  }\n",
       "\n",
       "  .colab-df-quickchart-complete:disabled,\n",
       "  .colab-df-quickchart-complete:disabled:hover {\n",
       "    background-color: var(--disabled-bg-color);\n",
       "    fill: var(--disabled-fill-color);\n",
       "    box-shadow: none;\n",
       "  }\n",
       "\n",
       "  .colab-df-spinner {\n",
       "    border: 2px solid var(--fill-color);\n",
       "    border-color: transparent;\n",
       "    border-bottom-color: var(--fill-color);\n",
       "    animation:\n",
       "      spin 1s steps(1) infinite;\n",
       "  }\n",
       "\n",
       "  @keyframes spin {\n",
       "    0% {\n",
       "      border-color: transparent;\n",
       "      border-bottom-color: var(--fill-color);\n",
       "      border-left-color: var(--fill-color);\n",
       "    }\n",
       "    20% {\n",
       "      border-color: transparent;\n",
       "      border-left-color: var(--fill-color);\n",
       "      border-top-color: var(--fill-color);\n",
       "    }\n",
       "    30% {\n",
       "      border-color: transparent;\n",
       "      border-left-color: var(--fill-color);\n",
       "      border-top-color: var(--fill-color);\n",
       "      border-right-color: var(--fill-color);\n",
       "    }\n",
       "    40% {\n",
       "      border-color: transparent;\n",
       "      border-right-color: var(--fill-color);\n",
       "      border-top-color: var(--fill-color);\n",
       "    }\n",
       "    60% {\n",
       "      border-color: transparent;\n",
       "      border-right-color: var(--fill-color);\n",
       "    }\n",
       "    80% {\n",
       "      border-color: transparent;\n",
       "      border-right-color: var(--fill-color);\n",
       "      border-bottom-color: var(--fill-color);\n",
       "    }\n",
       "    90% {\n",
       "      border-color: transparent;\n",
       "      border-bottom-color: var(--fill-color);\n",
       "    }\n",
       "  }\n",
       "</style>\n",
       "\n",
       "  <script>\n",
       "    async function quickchart(key) {\n",
       "      const quickchartButtonEl =\n",
       "        document.querySelector('#' + key + ' button');\n",
       "      quickchartButtonEl.disabled = true;  // To prevent multiple clicks.\n",
       "      quickchartButtonEl.classList.add('colab-df-spinner');\n",
       "      try {\n",
       "        const charts = await google.colab.kernel.invokeFunction(\n",
       "            'suggestCharts', [key], {});\n",
       "      } catch (error) {\n",
       "        console.error('Error during call to suggestCharts:', error);\n",
       "      }\n",
       "      quickchartButtonEl.classList.remove('colab-df-spinner');\n",
       "      quickchartButtonEl.classList.add('colab-df-quickchart-complete');\n",
       "    }\n",
       "    (() => {\n",
       "      let quickchartButtonEl =\n",
       "        document.querySelector('#df-a49f7f32-cb99-44d9-960c-2a2c1b61adcb button');\n",
       "      quickchartButtonEl.style.display =\n",
       "        google.colab.kernel.accessAllowed ? 'block' : 'none';\n",
       "    })();\n",
       "  </script>\n",
       "</div>\n",
       "\n",
       "  <div id=\"id_09ff8eab-3452-4d72-bc82-6ba8b2e04d47\">\n",
       "    <style>\n",
       "      .colab-df-generate {\n",
       "        background-color: #E8F0FE;\n",
       "        border: none;\n",
       "        border-radius: 50%;\n",
       "        cursor: pointer;\n",
       "        display: none;\n",
       "        fill: #1967D2;\n",
       "        height: 32px;\n",
       "        padding: 0 0 0 0;\n",
       "        width: 32px;\n",
       "      }\n",
       "\n",
       "      .colab-df-generate:hover {\n",
       "        background-color: #E2EBFA;\n",
       "        box-shadow: 0px 1px 2px rgba(60, 64, 67, 0.3), 0px 1px 3px 1px rgba(60, 64, 67, 0.15);\n",
       "        fill: #174EA6;\n",
       "      }\n",
       "\n",
       "      [theme=dark] .colab-df-generate {\n",
       "        background-color: #3B4455;\n",
       "        fill: #D2E3FC;\n",
       "      }\n",
       "\n",
       "      [theme=dark] .colab-df-generate:hover {\n",
       "        background-color: #434B5C;\n",
       "        box-shadow: 0px 1px 3px 1px rgba(0, 0, 0, 0.15);\n",
       "        filter: drop-shadow(0px 1px 2px rgba(0, 0, 0, 0.3));\n",
       "        fill: #FFFFFF;\n",
       "      }\n",
       "    </style>\n",
       "    <button class=\"colab-df-generate\" onclick=\"generateWithVariable('results_df')\"\n",
       "            title=\"Generate code using this dataframe.\"\n",
       "            style=\"display:none;\">\n",
       "\n",
       "  <svg xmlns=\"http://www.w3.org/2000/svg\" height=\"24px\"viewBox=\"0 0 24 24\"\n",
       "       width=\"24px\">\n",
       "    <path d=\"M7,19H8.4L18.45,9,17,7.55,7,17.6ZM5,21V16.75L18.45,3.32a2,2,0,0,1,2.83,0l1.4,1.43a1.91,1.91,0,0,1,.58,1.4,1.91,1.91,0,0,1-.58,1.4L9.25,21ZM18.45,9,17,7.55Zm-12,3A5.31,5.31,0,0,0,4.9,8.1,5.31,5.31,0,0,0,1,6.5,5.31,5.31,0,0,0,4.9,4.9,5.31,5.31,0,0,0,6.5,1,5.31,5.31,0,0,0,8.1,4.9,5.31,5.31,0,0,0,12,6.5,5.46,5.46,0,0,0,6.5,12Z\"/>\n",
       "  </svg>\n",
       "    </button>\n",
       "    <script>\n",
       "      (() => {\n",
       "      const buttonEl =\n",
       "        document.querySelector('#id_09ff8eab-3452-4d72-bc82-6ba8b2e04d47 button.colab-df-generate');\n",
       "      buttonEl.style.display =\n",
       "        google.colab.kernel.accessAllowed ? 'block' : 'none';\n",
       "\n",
       "      buttonEl.onclick = () => {\n",
       "        google.colab.notebook.generateWithVariable('results_df');\n",
       "      }\n",
       "      })();\n",
       "    </script>\n",
       "  </div>\n",
       "\n",
       "    </div>\n",
       "  </div>\n"
      ],
      "text/plain": [
       "                        model  best_score  \\\n",
       "0      random_survival_forest    0.844741   \n",
       "1  gradient_boosting_survival    0.850937   \n",
       "\n",
       "                                         best_params  \n",
       "0  {'max_depth': 10, 'max_features': 0.5, 'min_sa...  \n",
       "1  {'learning_rate': 0.1, 'max_depth': 5, 'min_sa...  "
      ]
     },
     "execution_count": 47,
     "metadata": {},
     "output_type": "execute_result"
    }
   ],
   "source": [
    "from sklearn.model_selection import KFold\n",
    "\n",
    "results = []\n",
    "for model_name, mp in tab_params.items():\n",
    "    best_params, best_score = custom_grid_search_cv(mp['model'], mp['params'], X_train, y_train)\n",
    "    results.append({\n",
    "        'model': model_name,\n",
    "        'best_score': best_score,\n",
    "        'best_params': best_params\n",
    "    })\n",
    "\n",
    "results_df = pd.DataFrame(results)\n",
    "results_df"
   ]
  },
  {
   "cell_type": "code",
   "execution_count": 49,
   "metadata": {
    "colab": {
     "base_uri": "https://localhost:8080/"
    },
    "id": "fEloSsD42H3n",
    "outputId": "f5b6b66f-ac74-4f82-cc52-b821ce2d336a"
   },
   "outputs": [
    {
     "name": "stdout",
     "output_type": "stream",
     "text": [
      "Training data C-index: 0.87\n",
      "Testing data C-index: 0.86\n",
      "Bootstrap C-index intervalle (95% IC): [0.82, 0.90]\n",
      "Bootstrap C-index moyenne: 0.86\n"
     ]
    }
   ],
   "source": [
    "import numpy as np\n",
    "from sklearn.model_selection import train_test_split\n",
    "from sksurv.ensemble import RandomSurvivalForest\n",
    "from sksurv.metrics import concordance_index_censored\n",
    "\n",
    "# Sélection des variables\n",
    "#vars = [\"Tabac\", \"Metastases\", \"Infiltrant\", \"Adenopathie\", \"Ulcero-bourgeonnant\",\"Ulceregastrique\", \"Stenosant\", \"Denitrution\", \"Deces\", \"Tempsdesuivi (Mois)\"]\n",
    "\n",
    "#df = df[vars]\n",
    "\n",
    "# Séparer les variables explicatives et la cible\n",
    "X = df.drop([\"Deces\", \"Tempsdesuivi (Mois)\"], axis=1)\n",
    "\n",
    "# Structurer y correctement\n",
    "y = np.array(list(zip(df[\"Deces\"].astype(bool), df[\"Tempsdesuivi (Mois)\"])),\n",
    "             dtype=[(\"event\", \"?\"), (\"time\", \"<f8\")])\n",
    "\n",
    "# Division des données en ensemble d'entraînement et de test\n",
    "X_train, X_test, y_train, y_test = train_test_split(X, y, test_size=0.2, random_state=42)\n",
    "\n",
    "# Initialisation du modèle\n",
    "rsf = RandomSurvivalForest(n_estimators=50,\n",
    "                           min_samples_split=10,\n",
    "                           min_samples_leaf=2,\n",
    "                           max_features=0.5,\n",
    "                           max_depth=10,\n",
    "                           random_state=42)\n",
    "rsf.fit(X_train, y_train)\n",
    "\n",
    "# Calcul des C-index\n",
    "c_index_train = rsf.score(X_train, y_train)\n",
    "c_index_test = rsf.score(X_test, y_test)\n",
    "\n",
    "print(f'Training data C-index: {c_index_train:.2f}')\n",
    "print(f'Testing data C-index: {c_index_test:.2f}')\n",
    "\n",
    "# Bootstrap pour intervalle de confiance du C-index\n",
    "n_bootstraps = 1000\n",
    "random_state = 42\n",
    "bootstrap_c_indexes = []\n",
    "\n",
    "np.random.seed(random_state)\n",
    "for _ in range(n_bootstraps):\n",
    "    X_test_sample, y_test_sample = resample(X_test, y_test)\n",
    "    c_index = rsf.score(X_test_sample, y_test_sample)\n",
    "    bootstrap_c_indexes.append(c_index)\n",
    "\n",
    "# Calcul de l'intervalle de confiance\n",
    "alpha = 0.95\n",
    "lower_bound = np.percentile(bootstrap_c_indexes, (1 - alpha) / 2 * 100)\n",
    "upper_bound = np.percentile(bootstrap_c_indexes, (1 + alpha) / 2 * 100)\n",
    "mean_c_index = np.mean(bootstrap_c_indexes)\n",
    "\n",
    "print(f\"Bootstrap C-index intervalle ({alpha*100:.0f}% IC): [{lower_bound:.2f}, {upper_bound:.2f}]\")\n",
    "print(f\"Bootstrap C-index moyenne: {mean_c_index:.2f}\")"
   ]
  },
  {
   "cell_type": "markdown",
   "metadata": {
    "id": "oX8spJZgmsl6"
   },
   "source": [
    "**Interprétation des résultats :**\n",
    "\n",
    "\n",
    " le **C-Index est de 0.87** pour chaque itération sur les données d'entraînement. Il est capable de prédire correctement l'ordre des événements dans 87% des cas.\n",
    "\n",
    "Sur les données de test, **le C-Index est de 0.86** pour chaque itération. Cela montre que le modèle généralise bien à des données non vues, avec une performance légèrement inférieure à celle sur les données d'entraînement, ce qui est normal et attendu.\n",
    "\n",
    "**Moyenne C-Index** (Entraînement) : 0.87\n",
    "\n",
    "**La moyenne des C-Indices** sur les données d'entraînement est de 0.87, confirmant la performance élevée du modèle sur ces données.\n",
    "\n",
    "Moyenne C-Index (Test) : 0.86\n",
    "\n",
    "La moyenne des C-Indices sur les données de test est de 0.86, ce qui indique que le modèle maintient une performance élevée sur des données non vues, avec une légère baisse par rapport à l'entraînement. Cela suggère que le modèle n'est pas en sur-ajustement (overfitting).\n",
    "\n",
    "**Taux d'erreur du modèle RSF : 0.14**\n",
    "\n",
    "Le taux d'erreur est calculé comme 1 - C-Index. Ici, il est de 0.14, ce qui signifie que le modèle se trompe dans 14% des cas.\n",
    "\n"
   ]
  },
  {
   "cell_type": "code",
   "execution_count": 50,
   "metadata": {
    "colab": {
     "base_uri": "https://localhost:8080/"
    },
    "id": "_c0lqvLEe0JZ",
    "outputId": "d393bf5f-ecd9-49fd-8094-0eb2da2dd55e"
   },
   "outputs": [
    {
     "name": "stdout",
     "output_type": "stream",
     "text": [
      "                Metric Value\n",
      "0  Brier Score intégré  0.08\n",
      "1              C-Index  0.86\n"
     ]
    }
   ],
   "source": [
    "from sksurv.ensemble import RandomSurvivalForest\n",
    "from sksurv.metrics import concordance_index_censored, integrated_brier_score\n",
    "from sklearn.model_selection import train_test_split\n",
    "\n",
    "# Calcul des métriques\n",
    "# Concordance Index\n",
    "c_index = concordance_index_censored(\n",
    "    y_test[\"event\"], y_test[\"time\"], rsf.predict(X_test)\n",
    ")[0]\n",
    "\n",
    "# Brier Score intégré\n",
    "# Limiter les points temporels à l'intervalle de suivi des données de test (exclure les bords)\n",
    "min_time = y_test[\"time\"].min() + 1e-8  # Légèrement au-dessus du min\n",
    "max_time = y_test[\"time\"].max() - 1e-8  # Légèrement en-dessous du max\n",
    "time_points = np.linspace(min_time, max_time, 100)\n",
    "\n",
    "# Extraction des prédictions de survie\n",
    "survival_predictions = rsf.predict_survival_function(X_test)\n",
    "\n",
    "# Convertir les prédictions en tableau 2D (probabilités à chaque point de temps)\n",
    "survival_probabilities = np.asarray(\n",
    "    [[fn(t) for t in time_points] for fn in survival_predictions]\n",
    ")\n",
    "\n",
    "# Calcul du Brier score intégré\n",
    "brier_score_value = integrated_brier_score(y_train, y_test, survival_probabilities, time_points)\n",
    "\n",
    "# Création d'un tableau des métriques avec 2 décimales\n",
    "metrics_table = pd.DataFrame({\n",
    "    \"Metric\": [\"Brier Score intégré\", \"C-Index\"],\n",
    "    \"Value\": [f\"{brier_score_value:.2f}\", f\"{c_index:.2f}\"]\n",
    "})\n",
    "\n",
    "print(metrics_table)"
   ]
  },
  {
   "cell_type": "markdown",
   "metadata": {
    "id": "rJMzEmcfe9W7"
   },
   "source": [
    "Dans cette étude, un modèle de Random Survival Forest `(RSF)` a été appliqué pour évaluer les associations entre les variables explicatives et la survie des patients. Les données ont été divisées en deux ensembles : un ensemble d'`entraînement (80 % des données)` et un ensemble de `test (20 % des données)`, et le modèle a été ajusté à l'aide de `50 arbres`, avec une `profondeur maximale fixée à 10` et un `échantillonnage basé sur un minimum de cinq échantillons` par division. L'évaluation de la performance du modèle a été effectuée à l'aide de `l'indice de concordance (C-index)`, qui a atteint une valeur de `0,87` pour l'ensemble d'entraînement et de `0,86` pour l'ensemble de test, indiquant une bonne capacité de discrimination du modèle. De plus, un processus de `bootstrap avec 1 000 itérations` a été utilisé pour estimer l'intervalle de confiance (IC) à 95 % du C-index pour les données de test. Les résultats ont montré un C-index moyen bootstrap de `0,86`, avec un intervalle de confiance allant de `0,81 à 0,90`, confirmant la robustesse et la fiabilité du modèle pour prédire les résultats de survie."
   ]
  },
  {
   "cell_type": "code",
   "execution_count": null,
   "metadata": {
    "id": "2MNI3iXaC7zO"
   },
   "outputs": [],
   "source": [
    "import shap\n",
    "import numpy as np\n",
    "\n",
    "X = df.drop(columns=['Tempsdesuivi (Mois)', 'Deces'])\n",
    "y = df['Tempsdesuivi (Mois)']\n",
    "\n",
    "# Utilisation de KernelExplainer pour un modèle générique\n",
    "explainer = shap.KernelExplainer(rsf.predict, X.sample(50, random_state=42))  # Échantillonner pour accélérer le calcul\n",
    "shap_values = explainer.shap_values(X)\n",
    "\n",
    "# Affichage des valeurs SHAP\n",
    "shap.summary_plot(shap_values, X)\n"
   ]
  },
  {
   "cell_type": "markdown",
   "metadata": {
    "id": "dcUwa6dEpz43"
   },
   "source": [
    "Le graphique SHAP montre l'impact des variables sur la prédiction du modèle.\n",
    "\n",
    " **\"Infiltrant\", \"Adénopathie\", \"Tabac\" et \"Métastases\"** augmentent fortement le risque (en rouge).\n",
    "\n",
    " **\"Ulcerogastrique\" et \"Dénutrition\"** ont un effet plus variable. Des valeurs faibles (bleu) réduisent l'impact."
   ]
  },
  {
   "cell_type": "code",
   "execution_count": null,
   "metadata": {
    "id": "ca5-urOYjv3S"
   },
   "outputs": [],
   "source": [
    "import shap\n",
    "import pandas as pd\n",
    "import matplotlib.pyplot as plt\n",
    "\n",
    "selected_vars=[\"Tabac\", \"Metastases\", \"Infiltrant\", \"Adenopathie\", \"Ulcero-bourgeonnant\",\"Ulceregastrique\", \"Stenosant\", \"Denitrution\"]\n",
    "# 2. Création du tableau global\n",
    "shap_global = pd.DataFrame({\n",
    "    'Variable': selected_vars,\n",
    "    'Valeur': df[selected_vars].mean().round(2).values,  # Valeur moyenne\n",
    "    'SHAP': pd.DataFrame(shap_values, columns=selected_vars).abs().mean().round(5).values\n",
    "}).sort_values('SHAP', ascending=False).reset_index(drop=True)\n",
    "\n",
    "# 3. Affichage stylisé du tableau\n",
    "print(\"Impact global des variables :\\n\")\n",
    "print(shap_global.to_markdown(index=False, numalign=\"left\", stralign=\"left\"))\n",
    "\n",
    "# 4. Graphique SHAP amélioré\n",
    "plt.figure(figsize=(12, 8))\n",
    "shap.summary_plot(\n",
    "    shap_values,\n",
    "    df[selected_vars],\n",
    "    plot_type=\"dot\",\n",
    "    color=plt.get_cmap(\"coolwarm\"),\n",
    "    alpha=0.7,\n",
    "    show=False\n",
    ")\n",
    "\n",
    "plt.title(\"Analyse SHAP des facteurs de risque\", fontsize=14, pad=20)\n",
    "plt.xlabel(\"Impact sur le risque (valeurs SHAP)\", fontsize=12)\n",
    "plt.ylabel(\"Variables\", fontsize=12)\n",
    "plt.gca().xaxis.grid(True, linestyle='--', alpha=0.6)\n",
    "plt.tight_layout()\n",
    "plt.show()"
   ]
  },
  {
   "cell_type": "markdown",
   "metadata": {
    "id": "ExglsnmNzpSp"
   },
   "source": [
    "Variables les plus importantes :\n",
    "\n",
    "Infiltrant (SHAP : 6.90447) et Adenopathie (SHAP : 5.29109) sont les variables ayant le plus grand impact sur le modèle.\n",
    "\n",
    "Tabac (SHAP : 5.1245) est également très influent.\n",
    "\n",
    "Variables moins importantes :\n",
    "\n",
    "Denitrution (SHAP : 1.29997) et Ulceregastrique (SHAP : 2.08469) ont un impact relativement faible.\n",
    "\n",
    "Implications :\n",
    "\n",
    "Les variables avec des valeurs SHAP élevées (comme Infiltrant et Adenopathie) sont cruciales pour les prédictions et devraient être prioritaires dans les analyses ou décisions cliniques.\n",
    "\n",
    "Les variables moins importantes pourraient être éventuellement exclues pour simplifier le modèle, selon le contexte."
   ]
  }
 ],
 "metadata": {
  "colab": {
   "provenance": []
  },
  "kernelspec": {
   "display_name": "Python 3 (ipykernel)",
   "language": "python",
   "name": "python3"
  },
  "language_info": {
   "codemirror_mode": {
    "name": "ipython",
    "version": 3
   },
   "file_extension": ".py",
   "mimetype": "text/x-python",
   "name": "python",
   "nbconvert_exporter": "python",
   "pygments_lexer": "ipython3",
   "version": "3.12.3"
  },
  "widgets": {
   "application/vnd.jupyter.widget-state+json": {
    "0eee6bcb68c847c8937cc83451015847": {
     "model_module": "@jupyter-widgets/base",
     "model_module_version": "1.2.0",
     "model_name": "LayoutModel",
     "state": {
      "_model_module": "@jupyter-widgets/base",
      "_model_module_version": "1.2.0",
      "_model_name": "LayoutModel",
      "_view_count": null,
      "_view_module": "@jupyter-widgets/base",
      "_view_module_version": "1.2.0",
      "_view_name": "LayoutView",
      "align_content": null,
      "align_items": null,
      "align_self": null,
      "border": null,
      "bottom": null,
      "display": null,
      "flex": null,
      "flex_flow": null,
      "grid_area": null,
      "grid_auto_columns": null,
      "grid_auto_flow": null,
      "grid_auto_rows": null,
      "grid_column": null,
      "grid_gap": null,
      "grid_row": null,
      "grid_template_areas": null,
      "grid_template_columns": null,
      "grid_template_rows": null,
      "height": null,
      "justify_content": null,
      "justify_items": null,
      "left": null,
      "margin": null,
      "max_height": null,
      "max_width": null,
      "min_height": null,
      "min_width": null,
      "object_fit": null,
      "object_position": null,
      "order": null,
      "overflow": null,
      "overflow_x": null,
      "overflow_y": null,
      "padding": null,
      "right": null,
      "top": null,
      "visibility": null,
      "width": null
     }
    },
    "1580ecf4b1ad4e78a446f2a963bd9079": {
     "model_module": "@jupyter-widgets/controls",
     "model_module_version": "1.5.0",
     "model_name": "DescriptionStyleModel",
     "state": {
      "_model_module": "@jupyter-widgets/controls",
      "_model_module_version": "1.5.0",
      "_model_name": "DescriptionStyleModel",
      "_view_count": null,
      "_view_module": "@jupyter-widgets/base",
      "_view_module_version": "1.2.0",
      "_view_name": "StyleView",
      "description_width": ""
     }
    },
    "211b8062384046da8e469ba1fba66066": {
     "model_module": "@jupyter-widgets/controls",
     "model_module_version": "1.5.0",
     "model_name": "HTMLModel",
     "state": {
      "_dom_classes": [],
      "_model_module": "@jupyter-widgets/controls",
      "_model_module_version": "1.5.0",
      "_model_name": "HTMLModel",
      "_view_count": null,
      "_view_module": "@jupyter-widgets/controls",
      "_view_module_version": "1.5.0",
      "_view_name": "HTMLView",
      "description": "",
      "description_tooltip": null,
      "layout": "IPY_MODEL_d927e01e63504cb5891f85750776bdd9",
      "placeholder": "​",
      "style": "IPY_MODEL_d41a95494ee74e43bf8cf947f9a07520",
      "value": "100%"
     }
    },
    "46414be228ab4ff18ef3b79061cac0c0": {
     "model_module": "@jupyter-widgets/base",
     "model_module_version": "1.2.0",
     "model_name": "LayoutModel",
     "state": {
      "_model_module": "@jupyter-widgets/base",
      "_model_module_version": "1.2.0",
      "_model_name": "LayoutModel",
      "_view_count": null,
      "_view_module": "@jupyter-widgets/base",
      "_view_module_version": "1.2.0",
      "_view_name": "LayoutView",
      "align_content": null,
      "align_items": null,
      "align_self": null,
      "border": null,
      "bottom": null,
      "display": null,
      "flex": null,
      "flex_flow": null,
      "grid_area": null,
      "grid_auto_columns": null,
      "grid_auto_flow": null,
      "grid_auto_rows": null,
      "grid_column": null,
      "grid_gap": null,
      "grid_row": null,
      "grid_template_areas": null,
      "grid_template_columns": null,
      "grid_template_rows": null,
      "height": null,
      "justify_content": null,
      "justify_items": null,
      "left": null,
      "margin": null,
      "max_height": null,
      "max_width": null,
      "min_height": null,
      "min_width": null,
      "object_fit": null,
      "object_position": null,
      "order": null,
      "overflow": null,
      "overflow_x": null,
      "overflow_y": null,
      "padding": null,
      "right": null,
      "top": null,
      "visibility": null,
      "width": null
     }
    },
    "52f0a527c7e84530ae71f9d072cd3067": {
     "model_module": "@jupyter-widgets/controls",
     "model_module_version": "1.5.0",
     "model_name": "DescriptionStyleModel",
     "state": {
      "_model_module": "@jupyter-widgets/controls",
      "_model_module_version": "1.5.0",
      "_model_name": "DescriptionStyleModel",
      "_view_count": null,
      "_view_module": "@jupyter-widgets/base",
      "_view_module_version": "1.2.0",
      "_view_name": "StyleView",
      "description_width": ""
     }
    },
    "5427f0812d1949c4beb4fb574baff7f2": {
     "model_module": "@jupyter-widgets/base",
     "model_module_version": "1.2.0",
     "model_name": "LayoutModel",
     "state": {
      "_model_module": "@jupyter-widgets/base",
      "_model_module_version": "1.2.0",
      "_model_name": "LayoutModel",
      "_view_count": null,
      "_view_module": "@jupyter-widgets/base",
      "_view_module_version": "1.2.0",
      "_view_name": "LayoutView",
      "align_content": null,
      "align_items": null,
      "align_self": null,
      "border": null,
      "bottom": null,
      "display": null,
      "flex": null,
      "flex_flow": null,
      "grid_area": null,
      "grid_auto_columns": null,
      "grid_auto_flow": null,
      "grid_auto_rows": null,
      "grid_column": null,
      "grid_gap": null,
      "grid_row": null,
      "grid_template_areas": null,
      "grid_template_columns": null,
      "grid_template_rows": null,
      "height": null,
      "justify_content": null,
      "justify_items": null,
      "left": null,
      "margin": null,
      "max_height": null,
      "max_width": null,
      "min_height": null,
      "min_width": null,
      "object_fit": null,
      "object_position": null,
      "order": null,
      "overflow": null,
      "overflow_x": null,
      "overflow_y": null,
      "padding": null,
      "right": null,
      "top": null,
      "visibility": null,
      "width": null
     }
    },
    "5c4bb0ee4c974fa1a2c136a5bb6ed12a": {
     "model_module": "@jupyter-widgets/base",
     "model_module_version": "1.2.0",
     "model_name": "LayoutModel",
     "state": {
      "_model_module": "@jupyter-widgets/base",
      "_model_module_version": "1.2.0",
      "_model_name": "LayoutModel",
      "_view_count": null,
      "_view_module": "@jupyter-widgets/base",
      "_view_module_version": "1.2.0",
      "_view_name": "LayoutView",
      "align_content": null,
      "align_items": null,
      "align_self": null,
      "border": null,
      "bottom": null,
      "display": null,
      "flex": null,
      "flex_flow": null,
      "grid_area": null,
      "grid_auto_columns": null,
      "grid_auto_flow": null,
      "grid_auto_rows": null,
      "grid_column": null,
      "grid_gap": null,
      "grid_row": null,
      "grid_template_areas": null,
      "grid_template_columns": null,
      "grid_template_rows": null,
      "height": null,
      "justify_content": null,
      "justify_items": null,
      "left": null,
      "margin": null,
      "max_height": null,
      "max_width": null,
      "min_height": null,
      "min_width": null,
      "object_fit": null,
      "object_position": null,
      "order": null,
      "overflow": null,
      "overflow_x": null,
      "overflow_y": null,
      "padding": null,
      "right": null,
      "top": null,
      "visibility": null,
      "width": null
     }
    },
    "5e239c5b475845f999338f65ebe83641": {
     "model_module": "@jupyter-widgets/controls",
     "model_module_version": "1.5.0",
     "model_name": "ProgressStyleModel",
     "state": {
      "_model_module": "@jupyter-widgets/controls",
      "_model_module_version": "1.5.0",
      "_model_name": "ProgressStyleModel",
      "_view_count": null,
      "_view_module": "@jupyter-widgets/base",
      "_view_module_version": "1.2.0",
      "_view_name": "StyleView",
      "bar_color": null,
      "description_width": ""
     }
    },
    "6deeef56b22b4050bcb7af8feec58fc9": {
     "model_module": "@jupyter-widgets/controls",
     "model_module_version": "1.5.0",
     "model_name": "VBoxModel",
     "state": {
      "_dom_classes": [
       "widget-interact"
      ],
      "_model_module": "@jupyter-widgets/controls",
      "_model_module_version": "1.5.0",
      "_model_name": "VBoxModel",
      "_view_count": null,
      "_view_module": "@jupyter-widgets/controls",
      "_view_module_version": "1.5.0",
      "_view_name": "VBoxView",
      "box_style": "",
      "children": [
       "IPY_MODEL_f57d7ba727924c8388176ab9ef6e9511",
       "IPY_MODEL_a708b08585ac4276922e7a7d681499d4"
      ],
      "layout": "IPY_MODEL_5c4bb0ee4c974fa1a2c136a5bb6ed12a"
     }
    },
    "863cdc8b0af64fb4baf434341f22ecf1": {
     "model_module": "@jupyter-widgets/base",
     "model_module_version": "1.2.0",
     "model_name": "LayoutModel",
     "state": {
      "_model_module": "@jupyter-widgets/base",
      "_model_module_version": "1.2.0",
      "_model_name": "LayoutModel",
      "_view_count": null,
      "_view_module": "@jupyter-widgets/base",
      "_view_module_version": "1.2.0",
      "_view_name": "LayoutView",
      "align_content": null,
      "align_items": null,
      "align_self": null,
      "border": null,
      "bottom": null,
      "display": null,
      "flex": null,
      "flex_flow": null,
      "grid_area": null,
      "grid_auto_columns": null,
      "grid_auto_flow": null,
      "grid_auto_rows": null,
      "grid_column": null,
      "grid_gap": null,
      "grid_row": null,
      "grid_template_areas": null,
      "grid_template_columns": null,
      "grid_template_rows": null,
      "height": null,
      "justify_content": null,
      "justify_items": null,
      "left": null,
      "margin": null,
      "max_height": null,
      "max_width": null,
      "min_height": null,
      "min_width": null,
      "object_fit": null,
      "object_position": null,
      "order": null,
      "overflow": null,
      "overflow_x": null,
      "overflow_y": null,
      "padding": null,
      "right": null,
      "top": null,
      "visibility": null,
      "width": null
     }
    },
    "9345b236827648e79e448b31cf46ae48": {
     "model_module": "@jupyter-widgets/controls",
     "model_module_version": "1.5.0",
     "model_name": "FloatProgressModel",
     "state": {
      "_dom_classes": [],
      "_model_module": "@jupyter-widgets/controls",
      "_model_module_version": "1.5.0",
      "_model_name": "FloatProgressModel",
      "_view_count": null,
      "_view_module": "@jupyter-widgets/controls",
      "_view_module_version": "1.5.0",
      "_view_name": "ProgressView",
      "bar_style": "success",
      "description": "",
      "description_tooltip": null,
      "layout": "IPY_MODEL_a8155661cdd441f488241f49d3fc4aaf",
      "max": 100,
      "min": 0,
      "orientation": "horizontal",
      "style": "IPY_MODEL_5e239c5b475845f999338f65ebe83641",
      "value": 100
     }
    },
    "a708b08585ac4276922e7a7d681499d4": {
     "model_module": "@jupyter-widgets/output",
     "model_module_version": "1.0.0",
     "model_name": "OutputModel",
     "state": {
      "_dom_classes": [],
      "_model_module": "@jupyter-widgets/output",
      "_model_module_version": "1.0.0",
      "_model_name": "OutputModel",
      "_view_count": null,
      "_view_module": "@jupyter-widgets/output",
      "_view_module_version": "1.0.0",
      "_view_name": "OutputView",
      "layout": "IPY_MODEL_5427f0812d1949c4beb4fb574baff7f2",
      "msg_id": "",
      "outputs": [
       {
        "data": {
         "image/png": "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\n",
         "text/plain": "<Figure size 800x400 with 1 Axes>"
        },
        "metadata": {},
        "output_type": "display_data"
       }
      ]
     }
    },
    "a8155661cdd441f488241f49d3fc4aaf": {
     "model_module": "@jupyter-widgets/base",
     "model_module_version": "1.2.0",
     "model_name": "LayoutModel",
     "state": {
      "_model_module": "@jupyter-widgets/base",
      "_model_module_version": "1.2.0",
      "_model_name": "LayoutModel",
      "_view_count": null,
      "_view_module": "@jupyter-widgets/base",
      "_view_module_version": "1.2.0",
      "_view_name": "LayoutView",
      "align_content": null,
      "align_items": null,
      "align_self": null,
      "border": null,
      "bottom": null,
      "display": null,
      "flex": null,
      "flex_flow": null,
      "grid_area": null,
      "grid_auto_columns": null,
      "grid_auto_flow": null,
      "grid_auto_rows": null,
      "grid_column": null,
      "grid_gap": null,
      "grid_row": null,
      "grid_template_areas": null,
      "grid_template_columns": null,
      "grid_template_rows": null,
      "height": null,
      "justify_content": null,
      "justify_items": null,
      "left": null,
      "margin": null,
      "max_height": null,
      "max_width": null,
      "min_height": null,
      "min_width": null,
      "object_fit": null,
      "object_position": null,
      "order": null,
      "overflow": null,
      "overflow_x": null,
      "overflow_y": null,
      "padding": null,
      "right": null,
      "top": null,
      "visibility": null,
      "width": null
     }
    },
    "d41a95494ee74e43bf8cf947f9a07520": {
     "model_module": "@jupyter-widgets/controls",
     "model_module_version": "1.5.0",
     "model_name": "DescriptionStyleModel",
     "state": {
      "_model_module": "@jupyter-widgets/controls",
      "_model_module_version": "1.5.0",
      "_model_name": "DescriptionStyleModel",
      "_view_count": null,
      "_view_module": "@jupyter-widgets/base",
      "_view_module_version": "1.2.0",
      "_view_name": "StyleView",
      "description_width": ""
     }
    },
    "d927e01e63504cb5891f85750776bdd9": {
     "model_module": "@jupyter-widgets/base",
     "model_module_version": "1.2.0",
     "model_name": "LayoutModel",
     "state": {
      "_model_module": "@jupyter-widgets/base",
      "_model_module_version": "1.2.0",
      "_model_name": "LayoutModel",
      "_view_count": null,
      "_view_module": "@jupyter-widgets/base",
      "_view_module_version": "1.2.0",
      "_view_name": "LayoutView",
      "align_content": null,
      "align_items": null,
      "align_self": null,
      "border": null,
      "bottom": null,
      "display": null,
      "flex": null,
      "flex_flow": null,
      "grid_area": null,
      "grid_auto_columns": null,
      "grid_auto_flow": null,
      "grid_auto_rows": null,
      "grid_column": null,
      "grid_gap": null,
      "grid_row": null,
      "grid_template_areas": null,
      "grid_template_columns": null,
      "grid_template_rows": null,
      "height": null,
      "justify_content": null,
      "justify_items": null,
      "left": null,
      "margin": null,
      "max_height": null,
      "max_width": null,
      "min_height": null,
      "min_width": null,
      "object_fit": null,
      "object_position": null,
      "order": null,
      "overflow": null,
      "overflow_x": null,
      "overflow_y": null,
      "padding": null,
      "right": null,
      "top": null,
      "visibility": null,
      "width": null
     }
    },
    "e60e4225cf804fc2b2b1d6644665f65b": {
     "model_module": "@jupyter-widgets/controls",
     "model_module_version": "1.5.0",
     "model_name": "HTMLModel",
     "state": {
      "_dom_classes": [],
      "_model_module": "@jupyter-widgets/controls",
      "_model_module_version": "1.5.0",
      "_model_name": "HTMLModel",
      "_view_count": null,
      "_view_module": "@jupyter-widgets/controls",
      "_view_module_version": "1.5.0",
      "_view_name": "HTMLView",
      "description": "",
      "description_tooltip": null,
      "layout": "IPY_MODEL_863cdc8b0af64fb4baf434341f22ecf1",
      "placeholder": "​",
      "style": "IPY_MODEL_52f0a527c7e84530ae71f9d072cd3067",
      "value": " 100/100 [01:57&lt;00:00,  1.29s/it]"
     }
    },
    "f57d7ba727924c8388176ab9ef6e9511": {
     "model_module": "@jupyter-widgets/controls",
     "model_module_version": "1.5.0",
     "model_name": "DropdownModel",
     "state": {
      "_dom_classes": [],
      "_model_module": "@jupyter-widgets/controls",
      "_model_module_version": "1.5.0",
      "_model_name": "DropdownModel",
      "_options_labels": [
       "Cardiopathie",
       "Ulceregastrique",
       "Douleurepigastrique",
       "Ulcero-bourgeonnant",
       "Constipation",
       "Denitrution",
       "Tabac",
       "Mucineux",
       "Tubuleux",
       "Infiltrant",
       "Stenosant",
       "Metastases",
       "Adenopathie",
       "Traitement",
       "SEXE"
      ],
      "_view_count": null,
      "_view_module": "@jupyter-widgets/controls",
      "_view_module_version": "1.5.0",
      "_view_name": "DropdownView",
      "description": "Variable:",
      "description_tooltip": null,
      "disabled": false,
      "index": 13,
      "layout": "IPY_MODEL_0eee6bcb68c847c8937cc83451015847",
      "style": "IPY_MODEL_1580ecf4b1ad4e78a446f2a963bd9079"
     }
    },
    "fffe8bcaea1b4b969da88067d27012ed": {
     "model_module": "@jupyter-widgets/controls",
     "model_module_version": "1.5.0",
     "model_name": "HBoxModel",
     "state": {
      "_dom_classes": [],
      "_model_module": "@jupyter-widgets/controls",
      "_model_module_version": "1.5.0",
      "_model_name": "HBoxModel",
      "_view_count": null,
      "_view_module": "@jupyter-widgets/controls",
      "_view_module_version": "1.5.0",
      "_view_name": "HBoxView",
      "box_style": "",
      "children": [
       "IPY_MODEL_211b8062384046da8e469ba1fba66066",
       "IPY_MODEL_9345b236827648e79e448b31cf46ae48",
       "IPY_MODEL_e60e4225cf804fc2b2b1d6644665f65b"
      ],
      "layout": "IPY_MODEL_46414be228ab4ff18ef3b79061cac0c0"
     }
    }
   }
  }
 },
 "nbformat": 4,
 "nbformat_minor": 4
}
